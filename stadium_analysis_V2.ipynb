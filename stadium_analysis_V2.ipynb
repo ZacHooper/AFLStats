{
 "metadata": {
  "language_info": {
   "codemirror_mode": {
    "name": "ipython",
    "version": 3
   },
   "file_extension": ".py",
   "mimetype": "text/x-python",
   "name": "python",
   "nbconvert_exporter": "python",
   "pygments_lexer": "ipython3",
   "version": "3.8.5-final"
  },
  "orig_nbformat": 2,
  "kernelspec": {
   "name": "python3",
   "display_name": "Python 3",
   "language": "python"
  }
 },
 "nbformat": 4,
 "nbformat_minor": 2,
 "cells": [
  {
   "source": [
    "# Stadium Analysis V2\n",
    "\n",
    "Following on from the previous analysis using recent data scraped from the offical AFL website I have been able to scrap more historic data from the website [afltables.com](https://afltables.com/).\n",
    "\n",
    "To begin lets first have a quick look at the data. \n"
   ],
   "cell_type": "markdown",
   "metadata": {}
  },
  {
   "cell_type": "code",
   "execution_count": 6,
   "metadata": {},
   "outputs": [
    {
     "output_type": "execute_result",
     "data": {
      "text/plain": [
       "   index  yearly_match_number  year  ... away_q4_score away_final_score is_bye\n",
       "0      1                    1  1897  ...          16.0             16.0      0\n",
       "1      2                    2  1897  ...          47.0             47.0      0\n",
       "2      3                    3  1897  ...          44.0             44.0      0\n",
       "3      4                    4  1897  ...          36.0             36.0      0\n",
       "4      5                    5  1897  ...          50.0             50.0      0\n",
       "\n",
       "[5 rows x 38 columns]"
      ],
      "text/html": "<div>\n<style scoped>\n    .dataframe tbody tr th:only-of-type {\n        vertical-align: middle;\n    }\n\n    .dataframe tbody tr th {\n        vertical-align: top;\n    }\n\n    .dataframe thead th {\n        text-align: right;\n    }\n</style>\n<table border=\"1\" class=\"dataframe\">\n  <thead>\n    <tr style=\"text-align: right;\">\n      <th></th>\n      <th>index</th>\n      <th>yearly_match_number</th>\n      <th>year</th>\n      <th>round</th>\n      <th>day</th>\n      <th>date</th>\n      <th>time</th>\n      <th>attendance</th>\n      <th>venue</th>\n      <th>home_team</th>\n      <th>home_q1_goals</th>\n      <th>home_q1_points</th>\n      <th>home_q1_score</th>\n      <th>home_q2_goals</th>\n      <th>home_q2_points</th>\n      <th>home_q2_score</th>\n      <th>home_q3_goals</th>\n      <th>home_q3_points</th>\n      <th>home_q3_score</th>\n      <th>home_q4_goals</th>\n      <th>home_q4_points</th>\n      <th>home_q4_score</th>\n      <th>home_final_score</th>\n      <th>away_team</th>\n      <th>away_q1_goals</th>\n      <th>away_q1_points</th>\n      <th>away_q1_score</th>\n      <th>away_q2_goals</th>\n      <th>away_q2_points</th>\n      <th>away_q2_score</th>\n      <th>away_q3_goals</th>\n      <th>away_q3_points</th>\n      <th>away_q3_score</th>\n      <th>away_q4_goals</th>\n      <th>away_q4_points</th>\n      <th>away_q4_score</th>\n      <th>away_final_score</th>\n      <th>is_bye</th>\n    </tr>\n  </thead>\n  <tbody>\n    <tr>\n      <th>0</th>\n      <td>1</td>\n      <td>1</td>\n      <td>1897</td>\n      <td>1</td>\n      <td>Sat</td>\n      <td>08-May-1897</td>\n      <td>3:00 pm</td>\n      <td>NaN</td>\n      <td>Victoria Park</td>\n      <td>Collingwood</td>\n      <td>1.0</td>\n      <td>1.0</td>\n      <td>7.0</td>\n      <td>4.0</td>\n      <td>3.0</td>\n      <td>27.0</td>\n      <td>4.0</td>\n      <td>9.0</td>\n      <td>33.0</td>\n      <td>5.0</td>\n      <td>11.0</td>\n      <td>41.0</td>\n      <td>41.0</td>\n      <td>St Kilda</td>\n      <td>1.0</td>\n      <td>0.0</td>\n      <td>6.0</td>\n      <td>2.0</td>\n      <td>2.0</td>\n      <td>14.0</td>\n      <td>2.0</td>\n      <td>4.0</td>\n      <td>16.0</td>\n      <td>2.0</td>\n      <td>4.0</td>\n      <td>16.0</td>\n      <td>16.0</td>\n      <td>0</td>\n    </tr>\n    <tr>\n      <th>1</th>\n      <td>2</td>\n      <td>2</td>\n      <td>1897</td>\n      <td>1</td>\n      <td>Sat</td>\n      <td>08-May-1897</td>\n      <td>3:00 pm</td>\n      <td>NaN</td>\n      <td>Corio Oval</td>\n      <td>Geelong</td>\n      <td>0.0</td>\n      <td>0.0</td>\n      <td>0.0</td>\n      <td>0.0</td>\n      <td>4.0</td>\n      <td>4.0</td>\n      <td>1.0</td>\n      <td>5.0</td>\n      <td>11.0</td>\n      <td>3.0</td>\n      <td>6.0</td>\n      <td>24.0</td>\n      <td>24.0</td>\n      <td>Essendon</td>\n      <td>3.0</td>\n      <td>2.0</td>\n      <td>20.0</td>\n      <td>3.0</td>\n      <td>4.0</td>\n      <td>22.0</td>\n      <td>6.0</td>\n      <td>4.0</td>\n      <td>40.0</td>\n      <td>7.0</td>\n      <td>5.0</td>\n      <td>47.0</td>\n      <td>47.0</td>\n      <td>0</td>\n    </tr>\n    <tr>\n      <th>2</th>\n      <td>3</td>\n      <td>3</td>\n      <td>1897</td>\n      <td>1</td>\n      <td>Sat</td>\n      <td>08-May-1897</td>\n      <td>3:00 pm</td>\n      <td>NaN</td>\n      <td>Lake Oval</td>\n      <td>South Melbourne</td>\n      <td>0.0</td>\n      <td>2.0</td>\n      <td>2.0</td>\n      <td>1.0</td>\n      <td>4.0</td>\n      <td>10.0</td>\n      <td>3.0</td>\n      <td>6.0</td>\n      <td>24.0</td>\n      <td>3.0</td>\n      <td>9.0</td>\n      <td>27.0</td>\n      <td>27.0</td>\n      <td>Melbourne</td>\n      <td>3.0</td>\n      <td>2.0</td>\n      <td>20.0</td>\n      <td>4.0</td>\n      <td>3.0</td>\n      <td>27.0</td>\n      <td>5.0</td>\n      <td>4.0</td>\n      <td>34.0</td>\n      <td>6.0</td>\n      <td>8.0</td>\n      <td>44.0</td>\n      <td>44.0</td>\n      <td>0</td>\n    </tr>\n    <tr>\n      <th>3</th>\n      <td>4</td>\n      <td>4</td>\n      <td>1897</td>\n      <td>2</td>\n      <td>Sat</td>\n      <td>15-May-1897</td>\n      <td>3:00 pm</td>\n      <td>NaN</td>\n      <td>Lake Oval</td>\n      <td>South Melbourne</td>\n      <td>2.0</td>\n      <td>3.0</td>\n      <td>15.0</td>\n      <td>2.0</td>\n      <td>3.0</td>\n      <td>15.0</td>\n      <td>6.0</td>\n      <td>4.0</td>\n      <td>40.0</td>\n      <td>6.0</td>\n      <td>4.0</td>\n      <td>40.0</td>\n      <td>40.0</td>\n      <td>Carlton</td>\n      <td>1.0</td>\n      <td>1.0</td>\n      <td>7.0</td>\n      <td>2.0</td>\n      <td>2.0</td>\n      <td>14.0</td>\n      <td>2.0</td>\n      <td>3.0</td>\n      <td>15.0</td>\n      <td>5.0</td>\n      <td>6.0</td>\n      <td>36.0</td>\n      <td>36.0</td>\n      <td>0</td>\n    </tr>\n    <tr>\n      <th>4</th>\n      <td>5</td>\n      <td>5</td>\n      <td>1897</td>\n      <td>2</td>\n      <td>Sat</td>\n      <td>15-May-1897</td>\n      <td>3:00 pm</td>\n      <td>NaN</td>\n      <td>East Melbourne</td>\n      <td>Essendon</td>\n      <td>1.0</td>\n      <td>3.0</td>\n      <td>9.0</td>\n      <td>1.0</td>\n      <td>5.0</td>\n      <td>11.0</td>\n      <td>3.0</td>\n      <td>5.0</td>\n      <td>23.0</td>\n      <td>4.0</td>\n      <td>6.0</td>\n      <td>30.0</td>\n      <td>30.0</td>\n      <td>Collingwood</td>\n      <td>2.0</td>\n      <td>0.0</td>\n      <td>12.0</td>\n      <td>6.0</td>\n      <td>0.0</td>\n      <td>36.0</td>\n      <td>6.0</td>\n      <td>2.0</td>\n      <td>38.0</td>\n      <td>8.0</td>\n      <td>2.0</td>\n      <td>50.0</td>\n      <td>50.0</td>\n      <td>0</td>\n    </tr>\n  </tbody>\n</table>\n</div>"
     },
     "metadata": {},
     "execution_count": 6
    }
   ],
   "source": [
    "import pandas as pd\n",
    "\n",
    "db = pd.read_csv('afltables_matches.csv')\n",
    "\n",
    "db.head(5)"
   ]
  },
  {
   "source": [
    "As we can see above the data goes a looong way back. We also have a pretty good view of how each match progressed with the quarter by quarter breakdown of scores. \n",
    "\n",
    "For curiosities sake lets see how many times a match has been plated at each ground. "
   ],
   "cell_type": "markdown",
   "metadata": {}
  },
  {
   "cell_type": "code",
   "execution_count": 26,
   "metadata": {},
   "outputs": [
    {
     "output_type": "execute_result",
     "data": {
      "text/plain": [
       "venue\n",
       "M.C.G.                 2903\n",
       "Princes Park           1275\n",
       "Docklands               942\n",
       "Victoria Park           875\n",
       "Waverley Park           732\n",
       "Junction Oval           729\n",
       "Lake Oval               697\n",
       "Kardinia Park           682\n",
       "Western Oval            665\n",
       "Windy Hill              629\n",
       "Brunswick St            606\n",
       "Subiaco                 545\n",
       "Punt Rd                 544\n",
       "Arden St                529\n",
       "Football Park           458\n",
       "Glenferrie Oval         443\n",
       "S.C.G.                  416\n",
       "Corio Oval              366\n",
       "Gabba                   361\n",
       "Moorabbin Oval          254\n",
       "East Melbourne          219\n",
       "Carrara                 206\n",
       "Adelaide Oval           159\n",
       "Sydney Showground        73\n",
       "York Park                72\n",
       "W.A.C.A.                 72\n",
       "Perth Stadium            65\n",
       "Stadium Australia        55\n",
       "Manuka Oval              50\n",
       "Marrara Oval             22\n",
       "Bellerive Oval           22\n",
       "Toorak Park              13\n",
       "Cazaly's Stadium         12\n",
       "Coburg Oval               9\n",
       "Yarraville Oval           7\n",
       "Traeger Park              7\n",
       "Eureka Stadium            5\n",
       "North Hobart              5\n",
       "Wellington                3\n",
       "Olympic Park              3\n",
       "Jiangwan Stadium          3\n",
       "Riverway Stadium          1\n",
       "Euroa                     1\n",
       "Bruce Stadium             1\n",
       "Brisbane Exhibition       1\n",
       "Blacktown                 1\n",
       "Yallourn                  1\n",
       "Albury                    1\n",
       "Name: index, dtype: int64"
      ]
     },
     "metadata": {},
     "execution_count": 26
    }
   ],
   "source": [
    "matches_played = db.groupby('venue')['index'].count().sort_values(ascending=False)\n",
    "\n",
    "matches_played"
   ]
  },
  {
   "source": [
    "It's great to see so many of the classic stadiums in this list. Maybe they'll be the most exciting stadiums and should be brought back ;) \n",
    "\n",
    "As with the first analysis one way to look at how exciting a match was is to look at how close the final score is. Close scoring matches often keep everyone on the edge of their seat all the way till the final siren. \n",
    "\n",
    "If the last analysis holds true into all the historic matches, Adelaide's AAMI stadium will be the most exciting stadium with the highest percentage of games that finished with a final margin less than 10. \n",
    "\n",
    "Let's find out!\n",
    "\n",
    "To start the new DB doesn't currently tell us the difference between the two scores at the final siren. It will definately be easier to work this out with this column created. "
   ],
   "cell_type": "markdown",
   "metadata": {}
  },
  {
   "cell_type": "code",
   "execution_count": 15,
   "metadata": {},
   "outputs": [
    {
     "output_type": "execute_result",
     "data": {
      "text/plain": [
       "   index  yearly_match_number  year  ... away_final_score is_bye difference\n",
       "0      1                    1  1897  ...             16.0      0       25.0\n",
       "1      2                    2  1897  ...             47.0      0       23.0\n",
       "\n",
       "[2 rows x 39 columns]"
      ],
      "text/html": "<div>\n<style scoped>\n    .dataframe tbody tr th:only-of-type {\n        vertical-align: middle;\n    }\n\n    .dataframe tbody tr th {\n        vertical-align: top;\n    }\n\n    .dataframe thead th {\n        text-align: right;\n    }\n</style>\n<table border=\"1\" class=\"dataframe\">\n  <thead>\n    <tr style=\"text-align: right;\">\n      <th></th>\n      <th>index</th>\n      <th>yearly_match_number</th>\n      <th>year</th>\n      <th>round</th>\n      <th>day</th>\n      <th>date</th>\n      <th>time</th>\n      <th>attendance</th>\n      <th>venue</th>\n      <th>home_team</th>\n      <th>home_q1_goals</th>\n      <th>home_q1_points</th>\n      <th>home_q1_score</th>\n      <th>home_q2_goals</th>\n      <th>home_q2_points</th>\n      <th>home_q2_score</th>\n      <th>home_q3_goals</th>\n      <th>home_q3_points</th>\n      <th>home_q3_score</th>\n      <th>home_q4_goals</th>\n      <th>home_q4_points</th>\n      <th>home_q4_score</th>\n      <th>home_final_score</th>\n      <th>away_team</th>\n      <th>away_q1_goals</th>\n      <th>away_q1_points</th>\n      <th>away_q1_score</th>\n      <th>away_q2_goals</th>\n      <th>away_q2_points</th>\n      <th>away_q2_score</th>\n      <th>away_q3_goals</th>\n      <th>away_q3_points</th>\n      <th>away_q3_score</th>\n      <th>away_q4_goals</th>\n      <th>away_q4_points</th>\n      <th>away_q4_score</th>\n      <th>away_final_score</th>\n      <th>is_bye</th>\n      <th>difference</th>\n    </tr>\n  </thead>\n  <tbody>\n    <tr>\n      <th>0</th>\n      <td>1</td>\n      <td>1</td>\n      <td>1897</td>\n      <td>1</td>\n      <td>Sat</td>\n      <td>08-May-1897</td>\n      <td>3:00 pm</td>\n      <td>NaN</td>\n      <td>Victoria Park</td>\n      <td>Collingwood</td>\n      <td>1.0</td>\n      <td>1.0</td>\n      <td>7.0</td>\n      <td>4.0</td>\n      <td>3.0</td>\n      <td>27.0</td>\n      <td>4.0</td>\n      <td>9.0</td>\n      <td>33.0</td>\n      <td>5.0</td>\n      <td>11.0</td>\n      <td>41.0</td>\n      <td>41.0</td>\n      <td>St Kilda</td>\n      <td>1.0</td>\n      <td>0.0</td>\n      <td>6.0</td>\n      <td>2.0</td>\n      <td>2.0</td>\n      <td>14.0</td>\n      <td>2.0</td>\n      <td>4.0</td>\n      <td>16.0</td>\n      <td>2.0</td>\n      <td>4.0</td>\n      <td>16.0</td>\n      <td>16.0</td>\n      <td>0</td>\n      <td>25.0</td>\n    </tr>\n    <tr>\n      <th>1</th>\n      <td>2</td>\n      <td>2</td>\n      <td>1897</td>\n      <td>1</td>\n      <td>Sat</td>\n      <td>08-May-1897</td>\n      <td>3:00 pm</td>\n      <td>NaN</td>\n      <td>Corio Oval</td>\n      <td>Geelong</td>\n      <td>0.0</td>\n      <td>0.0</td>\n      <td>0.0</td>\n      <td>0.0</td>\n      <td>4.0</td>\n      <td>4.0</td>\n      <td>1.0</td>\n      <td>5.0</td>\n      <td>11.0</td>\n      <td>3.0</td>\n      <td>6.0</td>\n      <td>24.0</td>\n      <td>24.0</td>\n      <td>Essendon</td>\n      <td>3.0</td>\n      <td>2.0</td>\n      <td>20.0</td>\n      <td>3.0</td>\n      <td>4.0</td>\n      <td>22.0</td>\n      <td>6.0</td>\n      <td>4.0</td>\n      <td>40.0</td>\n      <td>7.0</td>\n      <td>5.0</td>\n      <td>47.0</td>\n      <td>47.0</td>\n      <td>0</td>\n      <td>23.0</td>\n    </tr>\n  </tbody>\n</table>\n</div>"
     },
     "metadata": {},
     "execution_count": 15
    }
   ],
   "source": [
    "db['difference'] = abs(db.home_final_score - db.away_final_score)\n",
    "\n",
    "db.head(2)"
   ]
  },
  {
   "source": [
    "Great with that out the way let's look at which stadium has the highest percentage of close games. "
   ],
   "cell_type": "markdown",
   "metadata": {}
  },
  {
   "cell_type": "code",
   "execution_count": 28,
   "metadata": {},
   "outputs": [
    {
     "output_type": "execute_result",
     "data": {
      "text/plain": [
       "                     percentage_of_exciting_matches  matches_played\n",
       "Riverway Stadium                             100.00               1\n",
       "Coburg Oval                                   33.33               9\n",
       "Wellington                                    33.33               3\n",
       "Bellerive Oval                                31.82              22\n",
       "Yarraville Oval                               28.57               7\n",
       "East Melbourne                                25.11             219\n",
       "Lake Oval                                     24.10             697\n",
       "Arden St                                      24.01             529\n",
       "Stadium Australia                             23.64              55\n",
       "Carrara                                       22.33             206\n",
       "Punt Rd                                       21.51             544\n",
       "Brunswick St                                  21.29             606\n",
       "Junction Oval                                 21.12             729\n",
       "Windy Hill                                    20.99             629\n",
       "Western Oval                                  20.60             665\n",
       "Football Park                                 20.31             458\n",
       "Eureka Stadium                                20.00               5\n",
       "North Hobart                                  20.00               5\n",
       "Glenferrie Oval                               19.86             443\n",
       "Princes Park                                  19.61            1275\n",
       "York Park                                     19.44              72\n",
       "Corio Oval                                    19.13             366\n",
       "Docklands                                     19.11             942\n",
       "Kardinia Park                                 19.06             682\n",
       "Moorabbin Oval                                18.90             254\n",
       "M.C.G.                                        18.84            2903\n",
       "S.C.G.                                        18.51             416\n",
       "Perth Stadium                                 18.46              65\n",
       "W.A.C.A.                                      16.67              72\n",
       "Cazaly's Stadium                              16.67              12\n",
       "Victoria Park                                 16.00             875\n",
       "Subiaco                                       15.60             545\n",
       "Toorak Park                                   15.38              13\n",
       "Gabba                                         15.24             361\n",
       "Sydney Showground                             15.07              73\n",
       "Waverley Park                                 15.03             732\n",
       "Traeger Park                                  14.29               7\n",
       "Manuka Oval                                   14.00              50\n",
       "Adelaide Oval                                 13.84             159\n",
       "Marrara Oval                                  13.64              22\n",
       "Albury                                          NaN               1\n",
       "Blacktown                                       NaN               1\n",
       "Brisbane Exhibition                             NaN               1\n",
       "Bruce Stadium                                   NaN               1\n",
       "Euroa                                           NaN               1\n",
       "Jiangwan Stadium                                NaN               3\n",
       "Olympic Park                                    NaN               3\n",
       "Yallourn                                        NaN               1"
      ],
      "text/html": "<div>\n<style scoped>\n    .dataframe tbody tr th:only-of-type {\n        vertical-align: middle;\n    }\n\n    .dataframe tbody tr th {\n        vertical-align: top;\n    }\n\n    .dataframe thead th {\n        text-align: right;\n    }\n</style>\n<table border=\"1\" class=\"dataframe\">\n  <thead>\n    <tr style=\"text-align: right;\">\n      <th></th>\n      <th>percentage_of_exciting_matches</th>\n      <th>matches_played</th>\n    </tr>\n  </thead>\n  <tbody>\n    <tr>\n      <th>Riverway Stadium</th>\n      <td>100.00</td>\n      <td>1</td>\n    </tr>\n    <tr>\n      <th>Coburg Oval</th>\n      <td>33.33</td>\n      <td>9</td>\n    </tr>\n    <tr>\n      <th>Wellington</th>\n      <td>33.33</td>\n      <td>3</td>\n    </tr>\n    <tr>\n      <th>Bellerive Oval</th>\n      <td>31.82</td>\n      <td>22</td>\n    </tr>\n    <tr>\n      <th>Yarraville Oval</th>\n      <td>28.57</td>\n      <td>7</td>\n    </tr>\n    <tr>\n      <th>East Melbourne</th>\n      <td>25.11</td>\n      <td>219</td>\n    </tr>\n    <tr>\n      <th>Lake Oval</th>\n      <td>24.10</td>\n      <td>697</td>\n    </tr>\n    <tr>\n      <th>Arden St</th>\n      <td>24.01</td>\n      <td>529</td>\n    </tr>\n    <tr>\n      <th>Stadium Australia</th>\n      <td>23.64</td>\n      <td>55</td>\n    </tr>\n    <tr>\n      <th>Carrara</th>\n      <td>22.33</td>\n      <td>206</td>\n    </tr>\n    <tr>\n      <th>Punt Rd</th>\n      <td>21.51</td>\n      <td>544</td>\n    </tr>\n    <tr>\n      <th>Brunswick St</th>\n      <td>21.29</td>\n      <td>606</td>\n    </tr>\n    <tr>\n      <th>Junction Oval</th>\n      <td>21.12</td>\n      <td>729</td>\n    </tr>\n    <tr>\n      <th>Windy Hill</th>\n      <td>20.99</td>\n      <td>629</td>\n    </tr>\n    <tr>\n      <th>Western Oval</th>\n      <td>20.60</td>\n      <td>665</td>\n    </tr>\n    <tr>\n      <th>Football Park</th>\n      <td>20.31</td>\n      <td>458</td>\n    </tr>\n    <tr>\n      <th>Eureka Stadium</th>\n      <td>20.00</td>\n      <td>5</td>\n    </tr>\n    <tr>\n      <th>North Hobart</th>\n      <td>20.00</td>\n      <td>5</td>\n    </tr>\n    <tr>\n      <th>Glenferrie Oval</th>\n      <td>19.86</td>\n      <td>443</td>\n    </tr>\n    <tr>\n      <th>Princes Park</th>\n      <td>19.61</td>\n      <td>1275</td>\n    </tr>\n    <tr>\n      <th>York Park</th>\n      <td>19.44</td>\n      <td>72</td>\n    </tr>\n    <tr>\n      <th>Corio Oval</th>\n      <td>19.13</td>\n      <td>366</td>\n    </tr>\n    <tr>\n      <th>Docklands</th>\n      <td>19.11</td>\n      <td>942</td>\n    </tr>\n    <tr>\n      <th>Kardinia Park</th>\n      <td>19.06</td>\n      <td>682</td>\n    </tr>\n    <tr>\n      <th>Moorabbin Oval</th>\n      <td>18.90</td>\n      <td>254</td>\n    </tr>\n    <tr>\n      <th>M.C.G.</th>\n      <td>18.84</td>\n      <td>2903</td>\n    </tr>\n    <tr>\n      <th>S.C.G.</th>\n      <td>18.51</td>\n      <td>416</td>\n    </tr>\n    <tr>\n      <th>Perth Stadium</th>\n      <td>18.46</td>\n      <td>65</td>\n    </tr>\n    <tr>\n      <th>W.A.C.A.</th>\n      <td>16.67</td>\n      <td>72</td>\n    </tr>\n    <tr>\n      <th>Cazaly's Stadium</th>\n      <td>16.67</td>\n      <td>12</td>\n    </tr>\n    <tr>\n      <th>Victoria Park</th>\n      <td>16.00</td>\n      <td>875</td>\n    </tr>\n    <tr>\n      <th>Subiaco</th>\n      <td>15.60</td>\n      <td>545</td>\n    </tr>\n    <tr>\n      <th>Toorak Park</th>\n      <td>15.38</td>\n      <td>13</td>\n    </tr>\n    <tr>\n      <th>Gabba</th>\n      <td>15.24</td>\n      <td>361</td>\n    </tr>\n    <tr>\n      <th>Sydney Showground</th>\n      <td>15.07</td>\n      <td>73</td>\n    </tr>\n    <tr>\n      <th>Waverley Park</th>\n      <td>15.03</td>\n      <td>732</td>\n    </tr>\n    <tr>\n      <th>Traeger Park</th>\n      <td>14.29</td>\n      <td>7</td>\n    </tr>\n    <tr>\n      <th>Manuka Oval</th>\n      <td>14.00</td>\n      <td>50</td>\n    </tr>\n    <tr>\n      <th>Adelaide Oval</th>\n      <td>13.84</td>\n      <td>159</td>\n    </tr>\n    <tr>\n      <th>Marrara Oval</th>\n      <td>13.64</td>\n      <td>22</td>\n    </tr>\n    <tr>\n      <th>Albury</th>\n      <td>NaN</td>\n      <td>1</td>\n    </tr>\n    <tr>\n      <th>Blacktown</th>\n      <td>NaN</td>\n      <td>1</td>\n    </tr>\n    <tr>\n      <th>Brisbane Exhibition</th>\n      <td>NaN</td>\n      <td>1</td>\n    </tr>\n    <tr>\n      <th>Bruce Stadium</th>\n      <td>NaN</td>\n      <td>1</td>\n    </tr>\n    <tr>\n      <th>Euroa</th>\n      <td>NaN</td>\n      <td>1</td>\n    </tr>\n    <tr>\n      <th>Jiangwan Stadium</th>\n      <td>NaN</td>\n      <td>3</td>\n    </tr>\n    <tr>\n      <th>Olympic Park</th>\n      <td>NaN</td>\n      <td>3</td>\n    </tr>\n    <tr>\n      <th>Yallourn</th>\n      <td>NaN</td>\n      <td>1</td>\n    </tr>\n  </tbody>\n</table>\n</div>"
     },
     "metadata": {},
     "execution_count": 28
    }
   ],
   "source": [
    "exciting_matches = round((db.where(db['difference'] < 10).groupby('venue').difference.count() / db.groupby('venue')['index'].count()) * 100, 2).sort_values(ascending=False)\n",
    "\n",
    "data = {\n",
    "    \"percentage_of_exciting_matches\": exciting_matches,\n",
    "    \"matches_played\": matches_played\n",
    "}\n",
    "\n",
    "pd.concat(data, axis=1)"
   ]
  },
  {
   "cell_type": "code",
   "execution_count": null,
   "metadata": {},
   "outputs": [],
   "source": []
  }
 ]
}