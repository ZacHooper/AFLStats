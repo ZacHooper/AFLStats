{
 "metadata": {
  "language_info": {
   "codemirror_mode": {
    "name": "ipython",
    "version": 3
   },
   "file_extension": ".py",
   "mimetype": "text/x-python",
   "name": "python",
   "nbconvert_exporter": "python",
   "pygments_lexer": "ipython3",
   "version": 3
  },
  "orig_nbformat": 2,
  "kernelspec": {
   "name": "python_defaultSpec_1595166463930",
   "display_name": "Python 3.8.0 64-bit ('venv': venv)"
  }
 },
 "nbformat": 4,
 "nbformat_minor": 2,
 "cells": [
  {
   "cell_type": "markdown",
   "metadata": {},
   "source": [
    "# AFL Stats Analysis\n",
    "\n",
    "Setup the environment -> imports and datafram creation"
   ]
  },
  {
   "cell_type": "code",
   "execution_count": 36,
   "metadata": {},
   "outputs": [],
   "source": [
    "import sqlite3\n",
    "import pandas as pd\n",
    "\n",
    "sqliteConnection = sqlite3.connect('SQLite_Python.db')\n",
    "df = pd.read_sql_query(\"SELECT * FROM matches\", sqliteConnection)"
   ]
  },
  {
   "cell_type": "markdown",
   "metadata": {},
   "source": [
    "Describe the current state of the database"
   ]
  },
  {
   "cell_type": "code",
   "execution_count": 37,
   "metadata": {
    "tags": []
   },
   "outputs": [
    {
     "output_type": "stream",
     "name": "stdout",
     "text": "<class 'pandas.core.frame.DataFrame'>\nRangeIndex: 2249 entries, 0 to 2248\nData columns (total 16 columns):\n #   Column       Non-Null Count  Dtype \n---  ------       --------------  ----- \n 0   id           2249 non-null   int64 \n 1   competition  2249 non-null   object\n 2   season       2249 non-null   object\n 3   round        2249 non-null   object\n 4   date         2249 non-null   object\n 5   kick_off     2249 non-null   object\n 6   stadium      2249 non-null   object\n 7   winner       2249 non-null   object\n 8   home_team    2249 non-null   object\n 9   home_score   2249 non-null   int64 \n 10  home_goals   2249 non-null   int64 \n 11  home_points  2249 non-null   int64 \n 12  away_team    2249 non-null   object\n 13  away_score   2249 non-null   int64 \n 14  away_goals   2249 non-null   int64 \n 15  away_points  2249 non-null   int64 \ndtypes: int64(7), object(9)\nmemory usage: 281.2+ KB\n"
    }
   ],
   "source": [
    "df.info()"
   ]
  },
  {
   "cell_type": "markdown",
   "metadata": {},
   "source": [
    "Unique Seasons (years of play)"
   ]
  },
  {
   "cell_type": "code",
   "execution_count": 38,
   "metadata": {},
   "outputs": [
    {
     "output_type": "execute_result",
     "data": {
      "text/plain": "array(['2012', '2013', '2014', '2015', '2016', '2017', '2018', '2019',\n       '2020'], dtype=object)"
     },
     "metadata": {},
     "execution_count": 38
    }
   ],
   "source": [
    "df.season.unique() "
   ]
  },
  {
   "cell_type": "markdown",
   "metadata": {},
   "source": [
    "Unique Competitions"
   ]
  },
  {
   "cell_type": "code",
   "execution_count": 39,
   "metadata": {},
   "outputs": [
    {
     "output_type": "execute_result",
     "data": {
      "text/plain": "array(['Toyota AFL Premiership', 'AFL NAB Challenge', 'AFL NAB Cup',\n       'Marsh Community Series', 'AFL JLT Series', 'NAB AFLW Competition',\n       'eague Boys 2019', 'eague Girls 2019', 'AFL State of Origin',\n       'eague Girls 2020'], dtype=object)"
     },
     "metadata": {},
     "execution_count": 39
    }
   ],
   "source": [
    "df.competition.unique()"
   ]
  },
  {
   "cell_type": "markdown",
   "metadata": {},
   "source": [
    "Let's mess around with the 2012 season. \n",
    "\n",
    "Is there any missing data?"
   ]
  },
  {
   "cell_type": "code",
   "execution_count": 40,
   "metadata": {},
   "outputs": [
    {
     "output_type": "execute_result",
     "data": {
      "text/plain": "       id             competition season               round        date  \\\n0       1  Toyota AFL Premiership   2012                   1  2012-03-31   \n1      72  Toyota AFL Premiership   2012                   5  2012-04-28   \n2     143  Toyota AFL Premiership   2012                  15  2012-07-06   \n3     214  Toyota AFL Premiership   2012                  22  2012-08-26   \n9       2  Toyota AFL Premiership   2012                   1  2012-04-01   \n...   ...                     ...    ...                 ...         ...   \n2165  227  Toyota AFL Premiership   2012         Semi Finals  2012-09-14   \n2166  229  Toyota AFL Premiership   2012  Preliminary Finals  2012-09-22   \n2167  225  Toyota AFL Premiership   2012       Finals Week 1  2012-09-08   \n2168  230  Toyota AFL Premiership   2012  Preliminary Finals  2012-09-21   \n2169  231  Toyota AFL Premiership   2012       Finals Week 1  2012-09-08   \n\n     kick_off         stadium             winner         home_team  \\\n0       02:45             MCG     Brisbane Lions         Melbourne   \n1       09:45           Gabba       Geelong Cats    Brisbane Lions   \n2       09:50             MCG            Carlton       Collingwood   \n3       03:10   GMHBA Stadium       Geelong Cats      Geelong Cats   \n9       03:10  Marvel Stadium  West Coast Eagles  Western Bulldogs   \n...       ...             ...                ...               ...   \n2165    10:45    AAMI Stadium     Adelaide Crows    Adelaide Crows   \n2166    07:15             MCG           Hawthorn          Hawthorn   \n2167    09:45             MCG          Fremantle      Geelong Cats   \n2168    09:50     ANZ Stadium       Sydney Swans      Sydney Swans   \n2169    05:15    AAMI Stadium       Sydney Swans    Adelaide Crows   \n\n      home_score  home_goals  home_points          away_team  away_score  \\\n0             78          11           12     Brisbane Lions         119   \n1             41           4           17       Geelong Cats          79   \n2             62           8           14            Carlton          85   \n3            107          16           11   Western Bulldogs          73   \n9             87          12           15  West Coast Eagles         136   \n...          ...         ...          ...                ...         ...   \n2165          81          12            9          Fremantle          71   \n2166          97          13           19     Adelaide Crows          92   \n2167          80          11           14          Fremantle          96   \n2168          96          13           18        Collingwood          70   \n2169          42           5           12       Sydney Swans          71   \n\n      away_goals  away_points  \n0             17           17  \n1             12            7  \n2             12           13  \n3             11            7  \n9             21           10  \n...          ...          ...  \n2165          11            5  \n2166          14            8  \n2167          14           12  \n2168          10           10  \n2169          11            5  \n\n[210 rows x 16 columns]",
      "text/html": "<div>\n<style scoped>\n    .dataframe tbody tr th:only-of-type {\n        vertical-align: middle;\n    }\n\n    .dataframe tbody tr th {\n        vertical-align: top;\n    }\n\n    .dataframe thead th {\n        text-align: right;\n    }\n</style>\n<table border=\"1\" class=\"dataframe\">\n  <thead>\n    <tr style=\"text-align: right;\">\n      <th></th>\n      <th>id</th>\n      <th>competition</th>\n      <th>season</th>\n      <th>round</th>\n      <th>date</th>\n      <th>kick_off</th>\n      <th>stadium</th>\n      <th>winner</th>\n      <th>home_team</th>\n      <th>home_score</th>\n      <th>home_goals</th>\n      <th>home_points</th>\n      <th>away_team</th>\n      <th>away_score</th>\n      <th>away_goals</th>\n      <th>away_points</th>\n    </tr>\n  </thead>\n  <tbody>\n    <tr>\n      <th>0</th>\n      <td>1</td>\n      <td>Toyota AFL Premiership</td>\n      <td>2012</td>\n      <td>1</td>\n      <td>2012-03-31</td>\n      <td>02:45</td>\n      <td>MCG</td>\n      <td>Brisbane Lions</td>\n      <td>Melbourne</td>\n      <td>78</td>\n      <td>11</td>\n      <td>12</td>\n      <td>Brisbane Lions</td>\n      <td>119</td>\n      <td>17</td>\n      <td>17</td>\n    </tr>\n    <tr>\n      <th>1</th>\n      <td>72</td>\n      <td>Toyota AFL Premiership</td>\n      <td>2012</td>\n      <td>5</td>\n      <td>2012-04-28</td>\n      <td>09:45</td>\n      <td>Gabba</td>\n      <td>Geelong Cats</td>\n      <td>Brisbane Lions</td>\n      <td>41</td>\n      <td>4</td>\n      <td>17</td>\n      <td>Geelong Cats</td>\n      <td>79</td>\n      <td>12</td>\n      <td>7</td>\n    </tr>\n    <tr>\n      <th>2</th>\n      <td>143</td>\n      <td>Toyota AFL Premiership</td>\n      <td>2012</td>\n      <td>15</td>\n      <td>2012-07-06</td>\n      <td>09:50</td>\n      <td>MCG</td>\n      <td>Carlton</td>\n      <td>Collingwood</td>\n      <td>62</td>\n      <td>8</td>\n      <td>14</td>\n      <td>Carlton</td>\n      <td>85</td>\n      <td>12</td>\n      <td>13</td>\n    </tr>\n    <tr>\n      <th>3</th>\n      <td>214</td>\n      <td>Toyota AFL Premiership</td>\n      <td>2012</td>\n      <td>22</td>\n      <td>2012-08-26</td>\n      <td>03:10</td>\n      <td>GMHBA Stadium</td>\n      <td>Geelong Cats</td>\n      <td>Geelong Cats</td>\n      <td>107</td>\n      <td>16</td>\n      <td>11</td>\n      <td>Western Bulldogs</td>\n      <td>73</td>\n      <td>11</td>\n      <td>7</td>\n    </tr>\n    <tr>\n      <th>9</th>\n      <td>2</td>\n      <td>Toyota AFL Premiership</td>\n      <td>2012</td>\n      <td>1</td>\n      <td>2012-04-01</td>\n      <td>03:10</td>\n      <td>Marvel Stadium</td>\n      <td>West Coast Eagles</td>\n      <td>Western Bulldogs</td>\n      <td>87</td>\n      <td>12</td>\n      <td>15</td>\n      <td>West Coast Eagles</td>\n      <td>136</td>\n      <td>21</td>\n      <td>10</td>\n    </tr>\n    <tr>\n      <th>...</th>\n      <td>...</td>\n      <td>...</td>\n      <td>...</td>\n      <td>...</td>\n      <td>...</td>\n      <td>...</td>\n      <td>...</td>\n      <td>...</td>\n      <td>...</td>\n      <td>...</td>\n      <td>...</td>\n      <td>...</td>\n      <td>...</td>\n      <td>...</td>\n      <td>...</td>\n      <td>...</td>\n    </tr>\n    <tr>\n      <th>2165</th>\n      <td>227</td>\n      <td>Toyota AFL Premiership</td>\n      <td>2012</td>\n      <td>Semi Finals</td>\n      <td>2012-09-14</td>\n      <td>10:45</td>\n      <td>AAMI Stadium</td>\n      <td>Adelaide Crows</td>\n      <td>Adelaide Crows</td>\n      <td>81</td>\n      <td>12</td>\n      <td>9</td>\n      <td>Fremantle</td>\n      <td>71</td>\n      <td>11</td>\n      <td>5</td>\n    </tr>\n    <tr>\n      <th>2166</th>\n      <td>229</td>\n      <td>Toyota AFL Premiership</td>\n      <td>2012</td>\n      <td>Preliminary Finals</td>\n      <td>2012-09-22</td>\n      <td>07:15</td>\n      <td>MCG</td>\n      <td>Hawthorn</td>\n      <td>Hawthorn</td>\n      <td>97</td>\n      <td>13</td>\n      <td>19</td>\n      <td>Adelaide Crows</td>\n      <td>92</td>\n      <td>14</td>\n      <td>8</td>\n    </tr>\n    <tr>\n      <th>2167</th>\n      <td>225</td>\n      <td>Toyota AFL Premiership</td>\n      <td>2012</td>\n      <td>Finals Week 1</td>\n      <td>2012-09-08</td>\n      <td>09:45</td>\n      <td>MCG</td>\n      <td>Fremantle</td>\n      <td>Geelong Cats</td>\n      <td>80</td>\n      <td>11</td>\n      <td>14</td>\n      <td>Fremantle</td>\n      <td>96</td>\n      <td>14</td>\n      <td>12</td>\n    </tr>\n    <tr>\n      <th>2168</th>\n      <td>230</td>\n      <td>Toyota AFL Premiership</td>\n      <td>2012</td>\n      <td>Preliminary Finals</td>\n      <td>2012-09-21</td>\n      <td>09:50</td>\n      <td>ANZ Stadium</td>\n      <td>Sydney Swans</td>\n      <td>Sydney Swans</td>\n      <td>96</td>\n      <td>13</td>\n      <td>18</td>\n      <td>Collingwood</td>\n      <td>70</td>\n      <td>10</td>\n      <td>10</td>\n    </tr>\n    <tr>\n      <th>2169</th>\n      <td>231</td>\n      <td>Toyota AFL Premiership</td>\n      <td>2012</td>\n      <td>Finals Week 1</td>\n      <td>2012-09-08</td>\n      <td>05:15</td>\n      <td>AAMI Stadium</td>\n      <td>Sydney Swans</td>\n      <td>Adelaide Crows</td>\n      <td>42</td>\n      <td>5</td>\n      <td>12</td>\n      <td>Sydney Swans</td>\n      <td>71</td>\n      <td>11</td>\n      <td>5</td>\n    </tr>\n  </tbody>\n</table>\n<p>210 rows × 16 columns</p>\n</div>"
     },
     "metadata": {},
     "execution_count": 40
    }
   ],
   "source": [
    "season_2012 = df.loc[df.season == '2012']\n",
    "season_2012"
   ]
  },
  {
   "cell_type": "markdown",
   "metadata": {},
   "source": [
    "How many records are in each round??"
   ]
  },
  {
   "cell_type": "code",
   "execution_count": 41,
   "metadata": {
    "tags": []
   },
   "outputs": [
    {
     "output_type": "execute_result",
     "data": {
      "text/plain": "round\n1                     11\n10                     9\n11                     6\n12                     6\n13                     6\n14                     9\n15                    10\n16                     9\n17                     9\n18                     9\n19                     9\n2                      9\n20                     9\n21                     9\n22                     9\n23                     9\n3                      9\n4                      9\n5                      9\n6                      9\n7                      9\n8                      9\n9                      9\nFinals Week 1          4\nGrand Final            1\nPreliminary Finals     2\nSemi Finals            2\nName: id, dtype: int64"
     },
     "metadata": {},
     "execution_count": 41
    }
   ],
   "source": [
    "season_2012.groupby(['round'])['id'].count()"
   ]
  },
  {
   "cell_type": "markdown",
   "metadata": {},
   "source": [
    "Why are there 10 rounds in round 1?"
   ]
  },
  {
   "cell_type": "code",
   "execution_count": 42,
   "metadata": {},
   "outputs": [
    {
     "output_type": "execute_result",
     "data": {
      "text/plain": "       id             competition season round        date kick_off  \\\n0       1  Toyota AFL Premiership   2012     1  2012-03-31    02:45   \n9       2  Toyota AFL Premiership   2012     1  2012-04-01    03:10   \n20      3  Toyota AFL Premiership   2012     1  2012-03-30    08:50   \n30      4  Toyota AFL Premiership   2012     1  2012-03-31    05:45   \n41      6  Toyota AFL Premiership   2012     1  2012-03-31    08:45   \n143   233  Toyota AFL Premiership   2012     1  2012-03-24    08:20   \n151   234  Toyota AFL Premiership   2012     1  2012-03-29    08:45   \n167   236  Toyota AFL Premiership   2012     1  2012-03-31    08:45   \n182   238  Marsh Community Series   2012     1  2012-02-17    07:45   \n246    39  Toyota AFL Premiership   2012     1  2012-04-01    06:40   \n2159    1  Toyota AFL Premiership   2012     1  2012-03-31    02:45   \n\n               stadium             winner         home_team  home_score  \\\n0                  MCG     Brisbane Lions         Melbourne          78   \n9       Marvel Stadium  West Coast Eagles  Western Bulldogs          87   \n20                 MCG           Hawthorn          Hawthorn         137   \n30    Metricon Stadium     Adelaide Crows   Gold Coast Suns          68   \n41      Marvel Stadium           Essendon   North Melbourne         102   \n143        ANZ Stadium       Sydney Swans        GWS Giants          37   \n151                MCG            Carlton          Richmond          81   \n167     Domain Stadium          Fremantle         Fremantle         105   \n182     Marvel Stadium    North Melbourne          Richmond          41   \n246       AAMI Stadium      Port Adelaide     Port Adelaide          89   \n2159               MCG     Brisbane Lions         Melbourne          78   \n\n      home_goals  home_points          away_team  away_score  away_goals  \\\n0             11           12     Brisbane Lions         119          17   \n9             12           15  West Coast Eagles         136          21   \n20            20           17        Collingwood         115          16   \n30            10            8     Adelaide Crows         137          19   \n41            15           12           Essendon         104          14   \n143            5            7       Sydney Swans         100          14   \n151           12            9            Carlton         125          18   \n167           16            9       Geelong Cats         101          15   \n182            6            5    North Melbourne          44           7   \n246           13           11           St Kilda          85          13   \n2159          11           12     Brisbane Lions         119          17   \n\n      away_points  \n0              17  \n9              10  \n20             19  \n30             23  \n41             20  \n143            16  \n151            17  \n167            11  \n182             2  \n246             7  \n2159           17  ",
      "text/html": "<div>\n<style scoped>\n    .dataframe tbody tr th:only-of-type {\n        vertical-align: middle;\n    }\n\n    .dataframe tbody tr th {\n        vertical-align: top;\n    }\n\n    .dataframe thead th {\n        text-align: right;\n    }\n</style>\n<table border=\"1\" class=\"dataframe\">\n  <thead>\n    <tr style=\"text-align: right;\">\n      <th></th>\n      <th>id</th>\n      <th>competition</th>\n      <th>season</th>\n      <th>round</th>\n      <th>date</th>\n      <th>kick_off</th>\n      <th>stadium</th>\n      <th>winner</th>\n      <th>home_team</th>\n      <th>home_score</th>\n      <th>home_goals</th>\n      <th>home_points</th>\n      <th>away_team</th>\n      <th>away_score</th>\n      <th>away_goals</th>\n      <th>away_points</th>\n    </tr>\n  </thead>\n  <tbody>\n    <tr>\n      <th>0</th>\n      <td>1</td>\n      <td>Toyota AFL Premiership</td>\n      <td>2012</td>\n      <td>1</td>\n      <td>2012-03-31</td>\n      <td>02:45</td>\n      <td>MCG</td>\n      <td>Brisbane Lions</td>\n      <td>Melbourne</td>\n      <td>78</td>\n      <td>11</td>\n      <td>12</td>\n      <td>Brisbane Lions</td>\n      <td>119</td>\n      <td>17</td>\n      <td>17</td>\n    </tr>\n    <tr>\n      <th>9</th>\n      <td>2</td>\n      <td>Toyota AFL Premiership</td>\n      <td>2012</td>\n      <td>1</td>\n      <td>2012-04-01</td>\n      <td>03:10</td>\n      <td>Marvel Stadium</td>\n      <td>West Coast Eagles</td>\n      <td>Western Bulldogs</td>\n      <td>87</td>\n      <td>12</td>\n      <td>15</td>\n      <td>West Coast Eagles</td>\n      <td>136</td>\n      <td>21</td>\n      <td>10</td>\n    </tr>\n    <tr>\n      <th>20</th>\n      <td>3</td>\n      <td>Toyota AFL Premiership</td>\n      <td>2012</td>\n      <td>1</td>\n      <td>2012-03-30</td>\n      <td>08:50</td>\n      <td>MCG</td>\n      <td>Hawthorn</td>\n      <td>Hawthorn</td>\n      <td>137</td>\n      <td>20</td>\n      <td>17</td>\n      <td>Collingwood</td>\n      <td>115</td>\n      <td>16</td>\n      <td>19</td>\n    </tr>\n    <tr>\n      <th>30</th>\n      <td>4</td>\n      <td>Toyota AFL Premiership</td>\n      <td>2012</td>\n      <td>1</td>\n      <td>2012-03-31</td>\n      <td>05:45</td>\n      <td>Metricon Stadium</td>\n      <td>Adelaide Crows</td>\n      <td>Gold Coast Suns</td>\n      <td>68</td>\n      <td>10</td>\n      <td>8</td>\n      <td>Adelaide Crows</td>\n      <td>137</td>\n      <td>19</td>\n      <td>23</td>\n    </tr>\n    <tr>\n      <th>41</th>\n      <td>6</td>\n      <td>Toyota AFL Premiership</td>\n      <td>2012</td>\n      <td>1</td>\n      <td>2012-03-31</td>\n      <td>08:45</td>\n      <td>Marvel Stadium</td>\n      <td>Essendon</td>\n      <td>North Melbourne</td>\n      <td>102</td>\n      <td>15</td>\n      <td>12</td>\n      <td>Essendon</td>\n      <td>104</td>\n      <td>14</td>\n      <td>20</td>\n    </tr>\n    <tr>\n      <th>143</th>\n      <td>233</td>\n      <td>Toyota AFL Premiership</td>\n      <td>2012</td>\n      <td>1</td>\n      <td>2012-03-24</td>\n      <td>08:20</td>\n      <td>ANZ Stadium</td>\n      <td>Sydney Swans</td>\n      <td>GWS Giants</td>\n      <td>37</td>\n      <td>5</td>\n      <td>7</td>\n      <td>Sydney Swans</td>\n      <td>100</td>\n      <td>14</td>\n      <td>16</td>\n    </tr>\n    <tr>\n      <th>151</th>\n      <td>234</td>\n      <td>Toyota AFL Premiership</td>\n      <td>2012</td>\n      <td>1</td>\n      <td>2012-03-29</td>\n      <td>08:45</td>\n      <td>MCG</td>\n      <td>Carlton</td>\n      <td>Richmond</td>\n      <td>81</td>\n      <td>12</td>\n      <td>9</td>\n      <td>Carlton</td>\n      <td>125</td>\n      <td>18</td>\n      <td>17</td>\n    </tr>\n    <tr>\n      <th>167</th>\n      <td>236</td>\n      <td>Toyota AFL Premiership</td>\n      <td>2012</td>\n      <td>1</td>\n      <td>2012-03-31</td>\n      <td>08:45</td>\n      <td>Domain Stadium</td>\n      <td>Fremantle</td>\n      <td>Fremantle</td>\n      <td>105</td>\n      <td>16</td>\n      <td>9</td>\n      <td>Geelong Cats</td>\n      <td>101</td>\n      <td>15</td>\n      <td>11</td>\n    </tr>\n    <tr>\n      <th>182</th>\n      <td>238</td>\n      <td>Marsh Community Series</td>\n      <td>2012</td>\n      <td>1</td>\n      <td>2012-02-17</td>\n      <td>07:45</td>\n      <td>Marvel Stadium</td>\n      <td>North Melbourne</td>\n      <td>Richmond</td>\n      <td>41</td>\n      <td>6</td>\n      <td>5</td>\n      <td>North Melbourne</td>\n      <td>44</td>\n      <td>7</td>\n      <td>2</td>\n    </tr>\n    <tr>\n      <th>246</th>\n      <td>39</td>\n      <td>Toyota AFL Premiership</td>\n      <td>2012</td>\n      <td>1</td>\n      <td>2012-04-01</td>\n      <td>06:40</td>\n      <td>AAMI Stadium</td>\n      <td>Port Adelaide</td>\n      <td>Port Adelaide</td>\n      <td>89</td>\n      <td>13</td>\n      <td>11</td>\n      <td>St Kilda</td>\n      <td>85</td>\n      <td>13</td>\n      <td>7</td>\n    </tr>\n    <tr>\n      <th>2159</th>\n      <td>1</td>\n      <td>Toyota AFL Premiership</td>\n      <td>2012</td>\n      <td>1</td>\n      <td>2012-03-31</td>\n      <td>02:45</td>\n      <td>MCG</td>\n      <td>Brisbane Lions</td>\n      <td>Melbourne</td>\n      <td>78</td>\n      <td>11</td>\n      <td>12</td>\n      <td>Brisbane Lions</td>\n      <td>119</td>\n      <td>17</td>\n      <td>17</td>\n    </tr>\n  </tbody>\n</table>\n</div>"
     },
     "metadata": {},
     "execution_count": 42
    }
   ],
   "source": [
    "season_2012[season_2012['round'] == '1']"
   ]
  },
  {
   "cell_type": "markdown",
   "metadata": {},
   "source": [
    "Looks like the Marsh Community Series is sneaking in :)\n",
    "\n",
    "Let's filter on the competition as well "
   ]
  },
  {
   "cell_type": "code",
   "execution_count": 12,
   "metadata": {},
   "outputs": [
    {
     "output_type": "execute_result",
     "data": {
      "text/plain": "round\n1     9\n10    9\n11    6\n12    6\n13    6\n14    9\n15    9\n16    8\n17    9\n18    9\n19    9\n2     9\n20    9\n21    9\n22    9\n23    9\n3     9\n4     9\n5     9\n6     9\n7     9\n8     9\n9     9\nName: id, dtype: int64"
     },
     "metadata": {},
     "execution_count": 12
    }
   ],
   "source": [
    "season_2012[season_2012['competition'] == 'Toyota AFL Premiership'].groupby(['round'])['id'].count()"
   ]
  },
  {
   "cell_type": "markdown",
   "metadata": {},
   "source": [
    "Now why are rounds 11, 12, 13, & 16 less than 9? My guess was that 11, 12 & 13 were the bye rounds but what about 16?\n",
    "\n",
    "11, 12 & 13 are bye rounds but according to the AFL website there was 9 matches in round 16. Which match are we missing?"
   ]
  },
  {
   "cell_type": "code",
   "execution_count": 13,
   "metadata": {},
   "outputs": [
    {
     "output_type": "execute_result",
     "data": {
      "text/plain": "      id             competition season round        date kick_off  \\\n74   151  Toyota AFL Premiership   2012    16  2012-07-14    04:10   \n85   152  Toyota AFL Premiership   2012    16  2012-07-14    03:45   \n92   153  Toyota AFL Premiership   2012    16  2012-07-14    09:40   \n101  154  Toyota AFL Premiership   2012    16  2012-07-15    03:10   \n109  155  Toyota AFL Premiership   2012    16  2012-07-14    09:40   \n118  156  Toyota AFL Premiership   2012    16  2012-07-15    05:15   \n142  159  Toyota AFL Premiership   2012    16  2012-07-15    06:40   \n252  171  Toyota AFL Premiership   2012    16  2012-07-13    09:50   \n\n            stadium           winner          home_team  home_score  \\\n74     AAMI Stadium         Essendon      Port Adelaide          77   \n85   Marvel Stadium        Fremantle          Melbourne          83   \n92            Gabba         St Kilda     Brisbane Lions          92   \n101  GIANTS Stadium   Adelaide Crows         GWS Giants          59   \n109             MCG      Collingwood       Geelong Cats          79   \n118  Marvel Stadium         Hawthorn   Western Bulldogs          44   \n142  Domain Stadium     Sydney Swans  West Coast Eagles          69   \n252  Marvel Stadium  North Melbourne    North Melbourne         149   \n\n     home_goals  home_points       away_team  away_score  away_goals  \\\n74           11           11        Essendon         127          19   \n85           12           11       Fremantle         117          18   \n92           14            8        St Kilda         105          16   \n101           8           11  Adelaide Crows         178          27   \n109          10           19     Collingwood         110          17   \n118           6            8        Hawthorn         116          17   \n142          10            9    Sydney Swans         121          18   \n252          24            5         Carlton          96          14   \n\n     away_points  \n74            13  \n85             9  \n92             9  \n101           16  \n109            8  \n118           14  \n142           13  \n252           12  ",
      "text/html": "<div>\n<style scoped>\n    .dataframe tbody tr th:only-of-type {\n        vertical-align: middle;\n    }\n\n    .dataframe tbody tr th {\n        vertical-align: top;\n    }\n\n    .dataframe thead th {\n        text-align: right;\n    }\n</style>\n<table border=\"1\" class=\"dataframe\">\n  <thead>\n    <tr style=\"text-align: right;\">\n      <th></th>\n      <th>id</th>\n      <th>competition</th>\n      <th>season</th>\n      <th>round</th>\n      <th>date</th>\n      <th>kick_off</th>\n      <th>stadium</th>\n      <th>winner</th>\n      <th>home_team</th>\n      <th>home_score</th>\n      <th>home_goals</th>\n      <th>home_points</th>\n      <th>away_team</th>\n      <th>away_score</th>\n      <th>away_goals</th>\n      <th>away_points</th>\n    </tr>\n  </thead>\n  <tbody>\n    <tr>\n      <th>74</th>\n      <td>151</td>\n      <td>Toyota AFL Premiership</td>\n      <td>2012</td>\n      <td>16</td>\n      <td>2012-07-14</td>\n      <td>04:10</td>\n      <td>AAMI Stadium</td>\n      <td>Essendon</td>\n      <td>Port Adelaide</td>\n      <td>77</td>\n      <td>11</td>\n      <td>11</td>\n      <td>Essendon</td>\n      <td>127</td>\n      <td>19</td>\n      <td>13</td>\n    </tr>\n    <tr>\n      <th>85</th>\n      <td>152</td>\n      <td>Toyota AFL Premiership</td>\n      <td>2012</td>\n      <td>16</td>\n      <td>2012-07-14</td>\n      <td>03:45</td>\n      <td>Marvel Stadium</td>\n      <td>Fremantle</td>\n      <td>Melbourne</td>\n      <td>83</td>\n      <td>12</td>\n      <td>11</td>\n      <td>Fremantle</td>\n      <td>117</td>\n      <td>18</td>\n      <td>9</td>\n    </tr>\n    <tr>\n      <th>92</th>\n      <td>153</td>\n      <td>Toyota AFL Premiership</td>\n      <td>2012</td>\n      <td>16</td>\n      <td>2012-07-14</td>\n      <td>09:40</td>\n      <td>Gabba</td>\n      <td>St Kilda</td>\n      <td>Brisbane Lions</td>\n      <td>92</td>\n      <td>14</td>\n      <td>8</td>\n      <td>St Kilda</td>\n      <td>105</td>\n      <td>16</td>\n      <td>9</td>\n    </tr>\n    <tr>\n      <th>101</th>\n      <td>154</td>\n      <td>Toyota AFL Premiership</td>\n      <td>2012</td>\n      <td>16</td>\n      <td>2012-07-15</td>\n      <td>03:10</td>\n      <td>GIANTS Stadium</td>\n      <td>Adelaide Crows</td>\n      <td>GWS Giants</td>\n      <td>59</td>\n      <td>8</td>\n      <td>11</td>\n      <td>Adelaide Crows</td>\n      <td>178</td>\n      <td>27</td>\n      <td>16</td>\n    </tr>\n    <tr>\n      <th>109</th>\n      <td>155</td>\n      <td>Toyota AFL Premiership</td>\n      <td>2012</td>\n      <td>16</td>\n      <td>2012-07-14</td>\n      <td>09:40</td>\n      <td>MCG</td>\n      <td>Collingwood</td>\n      <td>Geelong Cats</td>\n      <td>79</td>\n      <td>10</td>\n      <td>19</td>\n      <td>Collingwood</td>\n      <td>110</td>\n      <td>17</td>\n      <td>8</td>\n    </tr>\n    <tr>\n      <th>118</th>\n      <td>156</td>\n      <td>Toyota AFL Premiership</td>\n      <td>2012</td>\n      <td>16</td>\n      <td>2012-07-15</td>\n      <td>05:15</td>\n      <td>Marvel Stadium</td>\n      <td>Hawthorn</td>\n      <td>Western Bulldogs</td>\n      <td>44</td>\n      <td>6</td>\n      <td>8</td>\n      <td>Hawthorn</td>\n      <td>116</td>\n      <td>17</td>\n      <td>14</td>\n    </tr>\n    <tr>\n      <th>142</th>\n      <td>159</td>\n      <td>Toyota AFL Premiership</td>\n      <td>2012</td>\n      <td>16</td>\n      <td>2012-07-15</td>\n      <td>06:40</td>\n      <td>Domain Stadium</td>\n      <td>Sydney Swans</td>\n      <td>West Coast Eagles</td>\n      <td>69</td>\n      <td>10</td>\n      <td>9</td>\n      <td>Sydney Swans</td>\n      <td>121</td>\n      <td>18</td>\n      <td>13</td>\n    </tr>\n    <tr>\n      <th>252</th>\n      <td>171</td>\n      <td>Toyota AFL Premiership</td>\n      <td>2012</td>\n      <td>16</td>\n      <td>2012-07-13</td>\n      <td>09:50</td>\n      <td>Marvel Stadium</td>\n      <td>North Melbourne</td>\n      <td>North Melbourne</td>\n      <td>149</td>\n      <td>24</td>\n      <td>5</td>\n      <td>Carlton</td>\n      <td>96</td>\n      <td>14</td>\n      <td>12</td>\n    </tr>\n  </tbody>\n</table>\n</div>"
     },
     "metadata": {},
     "execution_count": 13
    }
   ],
   "source": [
    "season_2012[season_2012['round'] == '16']"
   ]
  },
  {
   "cell_type": "markdown",
   "metadata": {},
   "source": [
    "Looks like the Tigers v Gold Coast match is missing (match id: 157)\n",
    "\n",
    "Let's see if it's in the DB"
   ]
  },
  {
   "cell_type": "code",
   "execution_count": 14,
   "metadata": {},
   "outputs": [
    {
     "output_type": "execute_result",
     "data": {
      "text/plain": "Empty DataFrame\nColumns: [id, competition, season, round, date, kick_off, stadium, winner, home_team, home_score, home_goals, home_points, away_team, away_score, away_goals, away_points]\nIndex: []",
      "text/html": "<div>\n<style scoped>\n    .dataframe tbody tr th:only-of-type {\n        vertical-align: middle;\n    }\n\n    .dataframe tbody tr th {\n        vertical-align: top;\n    }\n\n    .dataframe thead th {\n        text-align: right;\n    }\n</style>\n<table border=\"1\" class=\"dataframe\">\n  <thead>\n    <tr style=\"text-align: right;\">\n      <th></th>\n      <th>id</th>\n      <th>competition</th>\n      <th>season</th>\n      <th>round</th>\n      <th>date</th>\n      <th>kick_off</th>\n      <th>stadium</th>\n      <th>winner</th>\n      <th>home_team</th>\n      <th>home_score</th>\n      <th>home_goals</th>\n      <th>home_points</th>\n      <th>away_team</th>\n      <th>away_score</th>\n      <th>away_goals</th>\n      <th>away_points</th>\n    </tr>\n  </thead>\n  <tbody>\n  </tbody>\n</table>\n</div>"
     },
     "metadata": {},
     "execution_count": 14
    }
   ],
   "source": [
    "df[df['id'] == 157]"
   ]
  },
  {
   "cell_type": "markdown",
   "metadata": {},
   "source": [
    "Nope?! Looks like it didn't get added into the DB. We will need to add this manually\n",
    "\n",
    "TODO add match id 157\n",
    "\n",
    "Let's check the other seasons"
   ]
  },
  {
   "cell_type": "code",
   "execution_count": 15,
   "metadata": {},
   "outputs": [
    {
     "output_type": "execute_result",
     "data": {
      "text/plain": "round     1   10   11   12   13   14   15   16   17   18  ...   21   22   23  \\\nseason                                                    ...                  \n2012    9.0  9.0  6.0  6.0  6.0  9.0  9.0  8.0  9.0  9.0  ...  9.0  9.0  9.0   \n2013    9.0  9.0  6.0  6.0  6.0  9.0  9.0  8.0  9.0  9.0  ...  9.0  9.0  9.0   \n2014    9.0  6.0  9.0  9.0  9.0  9.0  9.0  9.0  8.0  9.0  ...  9.0  9.0  9.0   \n2015    9.0  9.0  6.0  6.0  6.0  8.0  8.0  9.0  9.0  9.0  ...  9.0  9.0  9.0   \n2016    9.0  9.0  9.0  9.0  6.0  6.0  6.0  9.0  8.0  9.0  ...  9.0  9.0  9.0   \n2017    9.0  9.0  6.0  7.0  6.0  9.0  9.0  9.0  9.0  8.0  ...  9.0  9.0  9.0   \n2018    8.0  8.0  9.0  7.0  6.0  6.0  9.0  9.0  9.0  9.0  ...  9.0  9.0  9.0   \n2019    9.0  9.0  9.0  6.0  6.0  6.0  9.0  9.0  9.0  9.0  ...  9.0  9.0  9.0   \n2020    9.0  NaN  NaN  NaN  NaN  NaN  NaN  NaN  NaN  NaN  ...  NaN  NaN  NaN   \n\nround     3    4    5    6    7    8    9  \nseason                                     \n2012    9.0  9.0  9.0  9.0  9.0  9.0  9.0  \n2013    9.0  9.0  9.0  9.0  9.0  9.0  9.0  \n2014    9.0  9.0  9.0  9.0  9.0  6.0  6.0  \n2015    9.0  9.0  9.0  9.0  9.0  9.0  9.0  \n2016    9.0  9.0  9.0  9.0  9.0  9.0  9.0  \n2017    9.0  9.0  9.0  9.0  9.0  9.0  8.0  \n2018    9.0  9.0  9.0  9.0  9.0  9.0  9.0  \n2019    9.0  9.0  9.0  9.0  9.0  9.0  9.0  \n2020    8.0  9.0  9.0  9.0  1.0  NaN  NaN  \n\n[9 rows x 23 columns]",
      "text/html": "<div>\n<style scoped>\n    .dataframe tbody tr th:only-of-type {\n        vertical-align: middle;\n    }\n\n    .dataframe tbody tr th {\n        vertical-align: top;\n    }\n\n    .dataframe thead th {\n        text-align: right;\n    }\n</style>\n<table border=\"1\" class=\"dataframe\">\n  <thead>\n    <tr style=\"text-align: right;\">\n      <th>round</th>\n      <th>1</th>\n      <th>10</th>\n      <th>11</th>\n      <th>12</th>\n      <th>13</th>\n      <th>14</th>\n      <th>15</th>\n      <th>16</th>\n      <th>17</th>\n      <th>18</th>\n      <th>...</th>\n      <th>21</th>\n      <th>22</th>\n      <th>23</th>\n      <th>3</th>\n      <th>4</th>\n      <th>5</th>\n      <th>6</th>\n      <th>7</th>\n      <th>8</th>\n      <th>9</th>\n    </tr>\n    <tr>\n      <th>season</th>\n      <th></th>\n      <th></th>\n      <th></th>\n      <th></th>\n      <th></th>\n      <th></th>\n      <th></th>\n      <th></th>\n      <th></th>\n      <th></th>\n      <th></th>\n      <th></th>\n      <th></th>\n      <th></th>\n      <th></th>\n      <th></th>\n      <th></th>\n      <th></th>\n      <th></th>\n      <th></th>\n      <th></th>\n    </tr>\n  </thead>\n  <tbody>\n    <tr>\n      <th>2012</th>\n      <td>9.0</td>\n      <td>9.0</td>\n      <td>6.0</td>\n      <td>6.0</td>\n      <td>6.0</td>\n      <td>9.0</td>\n      <td>9.0</td>\n      <td>8.0</td>\n      <td>9.0</td>\n      <td>9.0</td>\n      <td>...</td>\n      <td>9.0</td>\n      <td>9.0</td>\n      <td>9.0</td>\n      <td>9.0</td>\n      <td>9.0</td>\n      <td>9.0</td>\n      <td>9.0</td>\n      <td>9.0</td>\n      <td>9.0</td>\n      <td>9.0</td>\n    </tr>\n    <tr>\n      <th>2013</th>\n      <td>9.0</td>\n      <td>9.0</td>\n      <td>6.0</td>\n      <td>6.0</td>\n      <td>6.0</td>\n      <td>9.0</td>\n      <td>9.0</td>\n      <td>8.0</td>\n      <td>9.0</td>\n      <td>9.0</td>\n      <td>...</td>\n      <td>9.0</td>\n      <td>9.0</td>\n      <td>9.0</td>\n      <td>9.0</td>\n      <td>9.0</td>\n      <td>9.0</td>\n      <td>9.0</td>\n      <td>9.0</td>\n      <td>9.0</td>\n      <td>9.0</td>\n    </tr>\n    <tr>\n      <th>2014</th>\n      <td>9.0</td>\n      <td>6.0</td>\n      <td>9.0</td>\n      <td>9.0</td>\n      <td>9.0</td>\n      <td>9.0</td>\n      <td>9.0</td>\n      <td>9.0</td>\n      <td>8.0</td>\n      <td>9.0</td>\n      <td>...</td>\n      <td>9.0</td>\n      <td>9.0</td>\n      <td>9.0</td>\n      <td>9.0</td>\n      <td>9.0</td>\n      <td>9.0</td>\n      <td>9.0</td>\n      <td>9.0</td>\n      <td>6.0</td>\n      <td>6.0</td>\n    </tr>\n    <tr>\n      <th>2015</th>\n      <td>9.0</td>\n      <td>9.0</td>\n      <td>6.0</td>\n      <td>6.0</td>\n      <td>6.0</td>\n      <td>8.0</td>\n      <td>8.0</td>\n      <td>9.0</td>\n      <td>9.0</td>\n      <td>9.0</td>\n      <td>...</td>\n      <td>9.0</td>\n      <td>9.0</td>\n      <td>9.0</td>\n      <td>9.0</td>\n      <td>9.0</td>\n      <td>9.0</td>\n      <td>9.0</td>\n      <td>9.0</td>\n      <td>9.0</td>\n      <td>9.0</td>\n    </tr>\n    <tr>\n      <th>2016</th>\n      <td>9.0</td>\n      <td>9.0</td>\n      <td>9.0</td>\n      <td>9.0</td>\n      <td>6.0</td>\n      <td>6.0</td>\n      <td>6.0</td>\n      <td>9.0</td>\n      <td>8.0</td>\n      <td>9.0</td>\n      <td>...</td>\n      <td>9.0</td>\n      <td>9.0</td>\n      <td>9.0</td>\n      <td>9.0</td>\n      <td>9.0</td>\n      <td>9.0</td>\n      <td>9.0</td>\n      <td>9.0</td>\n      <td>9.0</td>\n      <td>9.0</td>\n    </tr>\n    <tr>\n      <th>2017</th>\n      <td>9.0</td>\n      <td>9.0</td>\n      <td>6.0</td>\n      <td>7.0</td>\n      <td>6.0</td>\n      <td>9.0</td>\n      <td>9.0</td>\n      <td>9.0</td>\n      <td>9.0</td>\n      <td>8.0</td>\n      <td>...</td>\n      <td>9.0</td>\n      <td>9.0</td>\n      <td>9.0</td>\n      <td>9.0</td>\n      <td>9.0</td>\n      <td>9.0</td>\n      <td>9.0</td>\n      <td>9.0</td>\n      <td>9.0</td>\n      <td>8.0</td>\n    </tr>\n    <tr>\n      <th>2018</th>\n      <td>8.0</td>\n      <td>8.0</td>\n      <td>9.0</td>\n      <td>7.0</td>\n      <td>6.0</td>\n      <td>6.0</td>\n      <td>9.0</td>\n      <td>9.0</td>\n      <td>9.0</td>\n      <td>9.0</td>\n      <td>...</td>\n      <td>9.0</td>\n      <td>9.0</td>\n      <td>9.0</td>\n      <td>9.0</td>\n      <td>9.0</td>\n      <td>9.0</td>\n      <td>9.0</td>\n      <td>9.0</td>\n      <td>9.0</td>\n      <td>9.0</td>\n    </tr>\n    <tr>\n      <th>2019</th>\n      <td>9.0</td>\n      <td>9.0</td>\n      <td>9.0</td>\n      <td>6.0</td>\n      <td>6.0</td>\n      <td>6.0</td>\n      <td>9.0</td>\n      <td>9.0</td>\n      <td>9.0</td>\n      <td>9.0</td>\n      <td>...</td>\n      <td>9.0</td>\n      <td>9.0</td>\n      <td>9.0</td>\n      <td>9.0</td>\n      <td>9.0</td>\n      <td>9.0</td>\n      <td>9.0</td>\n      <td>9.0</td>\n      <td>9.0</td>\n      <td>9.0</td>\n    </tr>\n    <tr>\n      <th>2020</th>\n      <td>9.0</td>\n      <td>NaN</td>\n      <td>NaN</td>\n      <td>NaN</td>\n      <td>NaN</td>\n      <td>NaN</td>\n      <td>NaN</td>\n      <td>NaN</td>\n      <td>NaN</td>\n      <td>NaN</td>\n      <td>...</td>\n      <td>NaN</td>\n      <td>NaN</td>\n      <td>NaN</td>\n      <td>8.0</td>\n      <td>9.0</td>\n      <td>9.0</td>\n      <td>9.0</td>\n      <td>1.0</td>\n      <td>NaN</td>\n      <td>NaN</td>\n    </tr>\n  </tbody>\n</table>\n<p>9 rows × 23 columns</p>\n</div>"
     },
     "metadata": {},
     "execution_count": 15
    }
   ],
   "source": [
    "matchesPerRound = df[df['competition'] == 'Toyota AFL Premiership'].pivot_table(index='season', columns='round', values='date', aggfunc=len)\n",
    "matchesPerRound"
   ]
  },
  {
   "cell_type": "markdown",
   "metadata": {},
   "source": [
    "Looks like there are a few rogue rounds that are missing a match. \n",
    "\n",
    "Let's try and isolate these"
   ]
  },
  {
   "cell_type": "code",
   "execution_count": 16,
   "metadata": {
    "tags": []
   },
   "outputs": [
    {
     "output_type": "execute_result",
     "data": {
      "text/plain": "       0   1    2\n3   2012  11  6.0\n26  2012  16  8.0\n7   2012  12  6.0\n13  2012  13  6.0\n4   2013  11  6.0\n8   2013  12  6.0\n14  2013  13  6.0\n27  2013  16  8.0\n28  2014  17  8.0\n1   2014  10  6.0\n33  2014   8  6.0\n34  2014   9  6.0\n20  2015  14  8.0\n15  2015  13  6.0\n24  2015  15  8.0\n9   2015  12  6.0\n5   2015  11  6.0\n29  2016  17  8.0\n16  2016  13  6.0\n25  2016  15  6.0\n21  2016  14  6.0\n30  2017  18  8.0\n17  2017  13  6.0\n35  2017   9  8.0\n10  2017  12  7.0\n6   2017  11  6.0\n22  2018  14  6.0\n18  2018  13  6.0\n11  2018  12  7.0\n2   2018  10  8.0\n0   2018   1  8.0\n19  2019  13  6.0\n12  2019  12  6.0\n23  2019  14  6.0\n31  2020   3  8.0\n32  2020   7  1.0",
      "text/html": "<div>\n<style scoped>\n    .dataframe tbody tr th:only-of-type {\n        vertical-align: middle;\n    }\n\n    .dataframe tbody tr th {\n        vertical-align: top;\n    }\n\n    .dataframe thead th {\n        text-align: right;\n    }\n</style>\n<table border=\"1\" class=\"dataframe\">\n  <thead>\n    <tr style=\"text-align: right;\">\n      <th></th>\n      <th>0</th>\n      <th>1</th>\n      <th>2</th>\n    </tr>\n  </thead>\n  <tbody>\n    <tr>\n      <th>3</th>\n      <td>2012</td>\n      <td>11</td>\n      <td>6.0</td>\n    </tr>\n    <tr>\n      <th>26</th>\n      <td>2012</td>\n      <td>16</td>\n      <td>8.0</td>\n    </tr>\n    <tr>\n      <th>7</th>\n      <td>2012</td>\n      <td>12</td>\n      <td>6.0</td>\n    </tr>\n    <tr>\n      <th>13</th>\n      <td>2012</td>\n      <td>13</td>\n      <td>6.0</td>\n    </tr>\n    <tr>\n      <th>4</th>\n      <td>2013</td>\n      <td>11</td>\n      <td>6.0</td>\n    </tr>\n    <tr>\n      <th>8</th>\n      <td>2013</td>\n      <td>12</td>\n      <td>6.0</td>\n    </tr>\n    <tr>\n      <th>14</th>\n      <td>2013</td>\n      <td>13</td>\n      <td>6.0</td>\n    </tr>\n    <tr>\n      <th>27</th>\n      <td>2013</td>\n      <td>16</td>\n      <td>8.0</td>\n    </tr>\n    <tr>\n      <th>28</th>\n      <td>2014</td>\n      <td>17</td>\n      <td>8.0</td>\n    </tr>\n    <tr>\n      <th>1</th>\n      <td>2014</td>\n      <td>10</td>\n      <td>6.0</td>\n    </tr>\n    <tr>\n      <th>33</th>\n      <td>2014</td>\n      <td>8</td>\n      <td>6.0</td>\n    </tr>\n    <tr>\n      <th>34</th>\n      <td>2014</td>\n      <td>9</td>\n      <td>6.0</td>\n    </tr>\n    <tr>\n      <th>20</th>\n      <td>2015</td>\n      <td>14</td>\n      <td>8.0</td>\n    </tr>\n    <tr>\n      <th>15</th>\n      <td>2015</td>\n      <td>13</td>\n      <td>6.0</td>\n    </tr>\n    <tr>\n      <th>24</th>\n      <td>2015</td>\n      <td>15</td>\n      <td>8.0</td>\n    </tr>\n    <tr>\n      <th>9</th>\n      <td>2015</td>\n      <td>12</td>\n      <td>6.0</td>\n    </tr>\n    <tr>\n      <th>5</th>\n      <td>2015</td>\n      <td>11</td>\n      <td>6.0</td>\n    </tr>\n    <tr>\n      <th>29</th>\n      <td>2016</td>\n      <td>17</td>\n      <td>8.0</td>\n    </tr>\n    <tr>\n      <th>16</th>\n      <td>2016</td>\n      <td>13</td>\n      <td>6.0</td>\n    </tr>\n    <tr>\n      <th>25</th>\n      <td>2016</td>\n      <td>15</td>\n      <td>6.0</td>\n    </tr>\n    <tr>\n      <th>21</th>\n      <td>2016</td>\n      <td>14</td>\n      <td>6.0</td>\n    </tr>\n    <tr>\n      <th>30</th>\n      <td>2017</td>\n      <td>18</td>\n      <td>8.0</td>\n    </tr>\n    <tr>\n      <th>17</th>\n      <td>2017</td>\n      <td>13</td>\n      <td>6.0</td>\n    </tr>\n    <tr>\n      <th>35</th>\n      <td>2017</td>\n      <td>9</td>\n      <td>8.0</td>\n    </tr>\n    <tr>\n      <th>10</th>\n      <td>2017</td>\n      <td>12</td>\n      <td>7.0</td>\n    </tr>\n    <tr>\n      <th>6</th>\n      <td>2017</td>\n      <td>11</td>\n      <td>6.0</td>\n    </tr>\n    <tr>\n      <th>22</th>\n      <td>2018</td>\n      <td>14</td>\n      <td>6.0</td>\n    </tr>\n    <tr>\n      <th>18</th>\n      <td>2018</td>\n      <td>13</td>\n      <td>6.0</td>\n    </tr>\n    <tr>\n      <th>11</th>\n      <td>2018</td>\n      <td>12</td>\n      <td>7.0</td>\n    </tr>\n    <tr>\n      <th>2</th>\n      <td>2018</td>\n      <td>10</td>\n      <td>8.0</td>\n    </tr>\n    <tr>\n      <th>0</th>\n      <td>2018</td>\n      <td>1</td>\n      <td>8.0</td>\n    </tr>\n    <tr>\n      <th>19</th>\n      <td>2019</td>\n      <td>13</td>\n      <td>6.0</td>\n    </tr>\n    <tr>\n      <th>12</th>\n      <td>2019</td>\n      <td>12</td>\n      <td>6.0</td>\n    </tr>\n    <tr>\n      <th>23</th>\n      <td>2019</td>\n      <td>14</td>\n      <td>6.0</td>\n    </tr>\n    <tr>\n      <th>31</th>\n      <td>2020</td>\n      <td>3</td>\n      <td>8.0</td>\n    </tr>\n    <tr>\n      <th>32</th>\n      <td>2020</td>\n      <td>7</td>\n      <td>1.0</td>\n    </tr>\n  </tbody>\n</table>\n</div>"
     },
     "metadata": {},
     "execution_count": 16
    }
   ],
   "source": [
    "missingMatches = [(index, key, matchesPerRound.loc[index,key]) for key in matchesPerRound for index in matchesPerRound.index if matchesPerRound.loc[index,key] < 9 ]\n",
    "\n",
    "missingMatches_df = pd.DataFrame.from_records(missingMatches)\n",
    "missingMatches_df.sort_values(0)\n"
   ]
  },
  {
   "cell_type": "markdown",
   "metadata": {},
   "source": [
    "A lot of these rounds are probably bye rounds especially those that had 6 matches between round 11->14\n",
    "\n",
    "I'm sure there is a more efficient way to locate this but I'm going to take a slightly manual approach.\n",
    "I will filter the missing match list to be just a year for ease of looking through the list, then\n",
    "I will filter the full database for the matches in those rounds. I will compare my list versus what is on \n",
    "the AFL website to find the missing match. \n"
   ]
  },
  {
   "cell_type": "code",
   "execution_count": 17,
   "metadata": {},
   "outputs": [
    {
     "output_type": "execute_result",
     "data": {
      "text/plain": "       0  1    2\n31  2020  3  8.0\n32  2020  7  1.0",
      "text/html": "<div>\n<style scoped>\n    .dataframe tbody tr th:only-of-type {\n        vertical-align: middle;\n    }\n\n    .dataframe tbody tr th {\n        vertical-align: top;\n    }\n\n    .dataframe thead th {\n        text-align: right;\n    }\n</style>\n<table border=\"1\" class=\"dataframe\">\n  <thead>\n    <tr style=\"text-align: right;\">\n      <th></th>\n      <th>0</th>\n      <th>1</th>\n      <th>2</th>\n    </tr>\n  </thead>\n  <tbody>\n    <tr>\n      <th>31</th>\n      <td>2020</td>\n      <td>3</td>\n      <td>8.0</td>\n    </tr>\n    <tr>\n      <th>32</th>\n      <td>2020</td>\n      <td>7</td>\n      <td>1.0</td>\n    </tr>\n  </tbody>\n</table>\n</div>"
     },
     "metadata": {},
     "execution_count": 17
    }
   ],
   "source": [
    "missingMatches_df[missingMatches_df.sort_values(0)[0] == '2020']"
   ]
  },
  {
   "cell_type": "code",
   "execution_count": 16,
   "metadata": {},
   "outputs": [
    {
     "output_type": "execute_result",
     "data": {
      "text/plain": "        id             competition season round        date kick_off  \\\n1483  1583  Toyota AFL Premiership   2018    10  2018-05-25    09:50   \n1438  1578  Toyota AFL Premiership   2018    10  2018-05-26    03:45   \n1464  1581  Toyota AFL Premiership   2018    10  2018-05-26    06:35   \n1418  1576  Toyota AFL Premiership   2018    10  2018-05-26    09:25   \n1427  1577  Toyota AFL Premiership   2018    10  2018-05-26    09:25   \n1630  1600  Toyota AFL Premiership   2018    10  2018-05-27    03:10   \n1446  1579  Toyota AFL Premiership   2018    10  2018-05-27    05:20   \n1503  1585  Toyota AFL Premiership   2018    10  2018-05-27    06:40   \n\n               stadium             winner       home_team  home_score  \\\n1483    Marvel Stadium        Collingwood     Collingwood          90   \n1438               MCG           Richmond        Richmond         105   \n1464             Gabba       Sydney Swans  Brisbane Lions          49   \n1418    GIANTS Stadium           Essendon      GWS Giants          60   \n1427     GMHBA Stadium       Geelong Cats    Geelong Cats          73   \n1630    Marvel Stadium  West Coast Eagles        Hawthorn          60   \n1446  TIO Traeger Park          Melbourne       Melbourne         146   \n1503     Optus Stadium    North Melbourne       Fremantle          58   \n\n      home_goals  home_points          away_team  away_score  away_goals  \\\n1483          13           12   Western Bulldogs          55           8   \n1438          15           15           St Kilda          77          12   \n1464           6           13       Sydney Swans          67          10   \n1418           8           12           Essendon          95          14   \n1427          11            7            Carlton          45           5   \n1630           9            6  West Coast Eagles          75          11   \n1446          23            8     Adelaide Crows          55           8   \n1503           8           10    North Melbourne          86          12   \n\n      away_points  \n1483            7  \n1438            5  \n1464            7  \n1418           11  \n1427           15  \n1630            9  \n1446            7  \n1503           14  ",
      "text/html": "<div>\n<style scoped>\n    .dataframe tbody tr th:only-of-type {\n        vertical-align: middle;\n    }\n\n    .dataframe tbody tr th {\n        vertical-align: top;\n    }\n\n    .dataframe thead th {\n        text-align: right;\n    }\n</style>\n<table border=\"1\" class=\"dataframe\">\n  <thead>\n    <tr style=\"text-align: right;\">\n      <th></th>\n      <th>id</th>\n      <th>competition</th>\n      <th>season</th>\n      <th>round</th>\n      <th>date</th>\n      <th>kick_off</th>\n      <th>stadium</th>\n      <th>winner</th>\n      <th>home_team</th>\n      <th>home_score</th>\n      <th>home_goals</th>\n      <th>home_points</th>\n      <th>away_team</th>\n      <th>away_score</th>\n      <th>away_goals</th>\n      <th>away_points</th>\n    </tr>\n  </thead>\n  <tbody>\n    <tr>\n      <th>1483</th>\n      <td>1583</td>\n      <td>Toyota AFL Premiership</td>\n      <td>2018</td>\n      <td>10</td>\n      <td>2018-05-25</td>\n      <td>09:50</td>\n      <td>Marvel Stadium</td>\n      <td>Collingwood</td>\n      <td>Collingwood</td>\n      <td>90</td>\n      <td>13</td>\n      <td>12</td>\n      <td>Western Bulldogs</td>\n      <td>55</td>\n      <td>8</td>\n      <td>7</td>\n    </tr>\n    <tr>\n      <th>1438</th>\n      <td>1578</td>\n      <td>Toyota AFL Premiership</td>\n      <td>2018</td>\n      <td>10</td>\n      <td>2018-05-26</td>\n      <td>03:45</td>\n      <td>MCG</td>\n      <td>Richmond</td>\n      <td>Richmond</td>\n      <td>105</td>\n      <td>15</td>\n      <td>15</td>\n      <td>St Kilda</td>\n      <td>77</td>\n      <td>12</td>\n      <td>5</td>\n    </tr>\n    <tr>\n      <th>1464</th>\n      <td>1581</td>\n      <td>Toyota AFL Premiership</td>\n      <td>2018</td>\n      <td>10</td>\n      <td>2018-05-26</td>\n      <td>06:35</td>\n      <td>Gabba</td>\n      <td>Sydney Swans</td>\n      <td>Brisbane Lions</td>\n      <td>49</td>\n      <td>6</td>\n      <td>13</td>\n      <td>Sydney Swans</td>\n      <td>67</td>\n      <td>10</td>\n      <td>7</td>\n    </tr>\n    <tr>\n      <th>1418</th>\n      <td>1576</td>\n      <td>Toyota AFL Premiership</td>\n      <td>2018</td>\n      <td>10</td>\n      <td>2018-05-26</td>\n      <td>09:25</td>\n      <td>GIANTS Stadium</td>\n      <td>Essendon</td>\n      <td>GWS Giants</td>\n      <td>60</td>\n      <td>8</td>\n      <td>12</td>\n      <td>Essendon</td>\n      <td>95</td>\n      <td>14</td>\n      <td>11</td>\n    </tr>\n    <tr>\n      <th>1427</th>\n      <td>1577</td>\n      <td>Toyota AFL Premiership</td>\n      <td>2018</td>\n      <td>10</td>\n      <td>2018-05-26</td>\n      <td>09:25</td>\n      <td>GMHBA Stadium</td>\n      <td>Geelong Cats</td>\n      <td>Geelong Cats</td>\n      <td>73</td>\n      <td>11</td>\n      <td>7</td>\n      <td>Carlton</td>\n      <td>45</td>\n      <td>5</td>\n      <td>15</td>\n    </tr>\n    <tr>\n      <th>1630</th>\n      <td>1600</td>\n      <td>Toyota AFL Premiership</td>\n      <td>2018</td>\n      <td>10</td>\n      <td>2018-05-27</td>\n      <td>03:10</td>\n      <td>Marvel Stadium</td>\n      <td>West Coast Eagles</td>\n      <td>Hawthorn</td>\n      <td>60</td>\n      <td>9</td>\n      <td>6</td>\n      <td>West Coast Eagles</td>\n      <td>75</td>\n      <td>11</td>\n      <td>9</td>\n    </tr>\n    <tr>\n      <th>1446</th>\n      <td>1579</td>\n      <td>Toyota AFL Premiership</td>\n      <td>2018</td>\n      <td>10</td>\n      <td>2018-05-27</td>\n      <td>05:20</td>\n      <td>TIO Traeger Park</td>\n      <td>Melbourne</td>\n      <td>Melbourne</td>\n      <td>146</td>\n      <td>23</td>\n      <td>8</td>\n      <td>Adelaide Crows</td>\n      <td>55</td>\n      <td>8</td>\n      <td>7</td>\n    </tr>\n    <tr>\n      <th>1503</th>\n      <td>1585</td>\n      <td>Toyota AFL Premiership</td>\n      <td>2018</td>\n      <td>10</td>\n      <td>2018-05-27</td>\n      <td>06:40</td>\n      <td>Optus Stadium</td>\n      <td>North Melbourne</td>\n      <td>Fremantle</td>\n      <td>58</td>\n      <td>8</td>\n      <td>10</td>\n      <td>North Melbourne</td>\n      <td>86</td>\n      <td>12</td>\n      <td>14</td>\n    </tr>\n  </tbody>\n</table>\n</div>"
     },
     "metadata": {},
     "execution_count": 16
    }
   ],
   "source": [
    "df.loc[(df['round'] == '10') & (df.season == '2018')].sort_values(['date', 'kick_off'])"
   ]
  },
  {
   "cell_type": "markdown",
   "metadata": {},
   "source": [
    "Looking at the historic fixtures, these are the missing matches:\n",
    "- Match id: 157 - 2012 round 16\n",
    "- Match id: 409 - 2013 round 16\n",
    "- Match id: 644 - 2014 round 17\n",
    "- Match id: 847 - 2015 round 14 (Phil Walsh death - match wasn't played and was declared a draw)\n",
    "- Match id: 843 - 2015 round 15\n",
    "- Match id: 1096 - 2016 round 17\n",
    "- Match id: 1390 - 2017 round 18\n",
    "- Match id: 1474 - 2018 round 1\n",
    "\n",
    "Having looked through this all the missing matches bar round 14 2015 were a gold coast match held at the Cazaly's Stadium. \n",
    "I'm not sure why they didn't pull down properly but I will add each of them into the DB now. "
   ]
  },
  {
   "cell_type": "code",
   "execution_count": 18,
   "metadata": {
    "tags": []
   },
   "outputs": [
    {
     "output_type": "stream",
     "name": "stdout",
     "text": "Attempting to fetch match: 157 with url: https://www.afl.com.au/matches/157\nAttempting to fetch match: 409 with url: https://www.afl.com.au/matches/409\nAttempting to fetch match: 644 with url: https://www.afl.com.au/matches/644\nAttempting to fetch match: 843 with url: https://www.afl.com.au/matches/843\nAttempting to fetch match: 1096 with url: https://www.afl.com.au/matches/1096\nAttempting to fetch match: 1390 with url: https://www.afl.com.au/matches/1390\nAttempting to fetch match: 1474 with url: https://www.afl.com.au/matches/1474\n"
    }
   ],
   "source": [
    "from scraper import getDataForMatch, insert, openDB, closeDB\n",
    "connection, cursor = openDB('SQLite_Python.db')\n",
    "\n",
    "matchesToGet = [157, 409, 644, 843, 1096, 1390, 1474]\n",
    "\n",
    "for matchID in matchesToGet:\n",
    "    match = getDataForMatch(matchID)\n",
    "    insert(cursor, match)\n",
    "\n",
    "closeDB(connection, cursor)"
   ]
  },
  {
   "cell_type": "markdown",
   "metadata": {},
   "source": [
    "So the issue was the single quotes in the stadium name. I'm sure I ran into issues with this for matches of other competitions but I think i'm going to leave it as I mostly care about the normal AFL season. \n",
    "\n",
    "I've updated the function to use double quotes rather than single quotes"
   ]
  },
  {
   "cell_type": "code",
   "execution_count": 19,
   "metadata": {
    "tags": []
   },
   "outputs": [
    {
     "output_type": "stream",
     "name": "stdout",
     "text": "Attempting to fetch match: 157 with url: https://www.afl.com.au/matches/157\nAttempting to fetch match: 409 with url: https://www.afl.com.au/matches/409\nAttempting to fetch match: 644 with url: https://www.afl.com.au/matches/644\nAttempting to fetch match: 843 with url: https://www.afl.com.au/matches/843\nAttempting to fetch match: 1096 with url: https://www.afl.com.au/matches/1096\nAttempting to fetch match: 1390 with url: https://www.afl.com.au/matches/1390\nAttempting to fetch match: 1474 with url: https://www.afl.com.au/matches/1474\n"
    }
   ],
   "source": [
    "from scraper import getDataForMatch, insert, openDB, closeDB\n",
    "connection, cursor = openDB('SQLite_Python.db')\n",
    "\n",
    "matchesToGet = [157, 409, 644, 843, 1096, 1390, 1474]\n",
    "\n",
    "for matchID in matchesToGet:\n",
    "    match = getDataForMatch(matchID)\n",
    "    insert(cursor, match)\n",
    "\n",
    "# connection.commit()\n",
    "\n",
    "closeDB(connection, cursor)"
   ]
  },
  {
   "cell_type": "markdown",
   "metadata": {},
   "source": [
    "I'm now reasonably happy with the quality of the data at least for the regular AFL Season. Now I need to work out why the finals aren't appearing in the data. \n",
    "\n",
    "I know that the 2012 grand final has the match id 232 Let's see if it's in the DB"
   ]
  },
  {
   "cell_type": "code",
   "execution_count": 31,
   "metadata": {},
   "outputs": [
    {
     "output_type": "execute_result",
     "data": {
      "text/plain": "Empty DataFrame\nColumns: [id, competition, season, round, date, kick_off, stadium, winner, home_team, home_score, home_goals, home_points, away_team, away_score, away_goals, away_points]\nIndex: []",
      "text/html": "<div>\n<style scoped>\n    .dataframe tbody tr th:only-of-type {\n        vertical-align: middle;\n    }\n\n    .dataframe tbody tr th {\n        vertical-align: top;\n    }\n\n    .dataframe thead th {\n        text-align: right;\n    }\n</style>\n<table border=\"1\" class=\"dataframe\">\n  <thead>\n    <tr style=\"text-align: right;\">\n      <th></th>\n      <th>id</th>\n      <th>competition</th>\n      <th>season</th>\n      <th>round</th>\n      <th>date</th>\n      <th>kick_off</th>\n      <th>stadium</th>\n      <th>winner</th>\n      <th>home_team</th>\n      <th>home_score</th>\n      <th>home_goals</th>\n      <th>home_points</th>\n      <th>away_team</th>\n      <th>away_score</th>\n      <th>away_goals</th>\n      <th>away_points</th>\n    </tr>\n  </thead>\n  <tbody>\n  </tbody>\n</table>\n</div>"
     },
     "metadata": {},
     "execution_count": 31
    }
   ],
   "source": [
    "df[df['id'] == 232]"
   ]
  },
  {
   "cell_type": "markdown",
   "metadata": {},
   "source": [
    "It's not... Let's looks at the returned result and see if there's anything wrong"
   ]
  },
  {
   "cell_type": "code",
   "execution_count": 35,
   "metadata": {
    "tags": []
   },
   "outputs": [
    {
     "output_type": "stream",
     "name": "stdout",
     "text": "Attempting to fetch match: 232 with url: https://www.afl.com.au/matches/232\nNone\n"
    }
   ],
   "source": [
    "match = getDataForMatch(232)\n",
    "print(match)"
   ]
  },
  {
   "cell_type": "markdown",
   "metadata": {},
   "source": [
    "Getting the data is returning 'None' ... why?\n",
    "\n",
    "There's was a little bit wrong with my logic in the regex expression pulling out the round and finals value.\n",
    "\n",
    "I did a complete readd to the DB and it should now include final's matches. Let's make sure they are all there."
   ]
  },
  {
   "cell_type": "code",
   "execution_count": 43,
   "metadata": {},
   "outputs": [
    {
     "output_type": "execute_result",
     "data": {
      "text/plain": "round      1   10   11   12   13   14    15   16   17   18  ...    4    5  \\\nseason                                                      ...             \n2012    10.0  9.0  6.0  6.0  6.0  9.0  10.0  9.0  9.0  9.0  ...  9.0  9.0   \n2013     9.0  9.0  6.0  6.0  6.0  9.0   9.0  9.0  9.0  9.0  ...  9.0  9.0   \n2014     9.0  6.0  9.0  9.0  9.0  9.0   9.0  9.0  9.0  9.0  ...  9.0  9.0   \n2015     9.0  9.0  6.0  6.0  6.0  8.0   9.0  9.0  9.0  9.0  ...  9.0  9.0   \n2016     9.0  9.0  9.0  9.0  6.0  6.0   6.0  9.0  9.0  9.0  ...  9.0  9.0   \n2017     9.0  9.0  6.0  7.0  6.0  9.0   9.0  9.0  9.0  9.0  ...  9.0  9.0   \n2018     9.0  8.0  9.0  7.0  6.0  6.0   9.0  9.0  9.0  9.0  ...  9.0  9.0   \n2019     9.0  9.0  9.0  6.0  6.0  6.0   9.0  9.0  9.0  9.0  ...  9.0  9.0   \n2020     9.0  NaN  NaN  NaN  NaN  NaN   NaN  NaN  NaN  NaN  ...  9.0  9.0   \n\nround     6    7    8    9  Finals Week 1  Grand Final  Preliminary Finals  \\\nseason                                                                       \n2012    9.0  9.0  9.0  9.0            4.0          1.0                 2.0   \n2013    9.0  9.0  9.0  9.0            4.0          1.0                 2.0   \n2014    9.0  9.0  6.0  6.0            4.0          1.0                 2.0   \n2015    9.0  9.0  9.0  9.0            4.0          1.0                 2.0   \n2016    9.0  9.0  9.0  9.0            4.0          1.0                 2.0   \n2017    9.0  9.0  9.0  8.0            4.0          1.0                 2.0   \n2018    9.0  9.0  9.0  9.0            4.0          1.0                 2.0   \n2019    9.0  9.0  9.0  9.0            4.0          1.0                 2.0   \n2020    9.0  8.0  NaN  NaN            NaN          NaN                 NaN   \n\nround   Semi Finals  \nseason               \n2012            2.0  \n2013            2.0  \n2014            2.0  \n2015            2.0  \n2016            2.0  \n2017            2.0  \n2018            2.0  \n2019            2.0  \n2020            NaN  \n\n[9 rows x 27 columns]",
      "text/html": "<div>\n<style scoped>\n    .dataframe tbody tr th:only-of-type {\n        vertical-align: middle;\n    }\n\n    .dataframe tbody tr th {\n        vertical-align: top;\n    }\n\n    .dataframe thead th {\n        text-align: right;\n    }\n</style>\n<table border=\"1\" class=\"dataframe\">\n  <thead>\n    <tr style=\"text-align: right;\">\n      <th>round</th>\n      <th>1</th>\n      <th>10</th>\n      <th>11</th>\n      <th>12</th>\n      <th>13</th>\n      <th>14</th>\n      <th>15</th>\n      <th>16</th>\n      <th>17</th>\n      <th>18</th>\n      <th>...</th>\n      <th>4</th>\n      <th>5</th>\n      <th>6</th>\n      <th>7</th>\n      <th>8</th>\n      <th>9</th>\n      <th>Finals Week 1</th>\n      <th>Grand Final</th>\n      <th>Preliminary Finals</th>\n      <th>Semi Finals</th>\n    </tr>\n    <tr>\n      <th>season</th>\n      <th></th>\n      <th></th>\n      <th></th>\n      <th></th>\n      <th></th>\n      <th></th>\n      <th></th>\n      <th></th>\n      <th></th>\n      <th></th>\n      <th></th>\n      <th></th>\n      <th></th>\n      <th></th>\n      <th></th>\n      <th></th>\n      <th></th>\n      <th></th>\n      <th></th>\n      <th></th>\n      <th></th>\n    </tr>\n  </thead>\n  <tbody>\n    <tr>\n      <th>2012</th>\n      <td>10.0</td>\n      <td>9.0</td>\n      <td>6.0</td>\n      <td>6.0</td>\n      <td>6.0</td>\n      <td>9.0</td>\n      <td>10.0</td>\n      <td>9.0</td>\n      <td>9.0</td>\n      <td>9.0</td>\n      <td>...</td>\n      <td>9.0</td>\n      <td>9.0</td>\n      <td>9.0</td>\n      <td>9.0</td>\n      <td>9.0</td>\n      <td>9.0</td>\n      <td>4.0</td>\n      <td>1.0</td>\n      <td>2.0</td>\n      <td>2.0</td>\n    </tr>\n    <tr>\n      <th>2013</th>\n      <td>9.0</td>\n      <td>9.0</td>\n      <td>6.0</td>\n      <td>6.0</td>\n      <td>6.0</td>\n      <td>9.0</td>\n      <td>9.0</td>\n      <td>9.0</td>\n      <td>9.0</td>\n      <td>9.0</td>\n      <td>...</td>\n      <td>9.0</td>\n      <td>9.0</td>\n      <td>9.0</td>\n      <td>9.0</td>\n      <td>9.0</td>\n      <td>9.0</td>\n      <td>4.0</td>\n      <td>1.0</td>\n      <td>2.0</td>\n      <td>2.0</td>\n    </tr>\n    <tr>\n      <th>2014</th>\n      <td>9.0</td>\n      <td>6.0</td>\n      <td>9.0</td>\n      <td>9.0</td>\n      <td>9.0</td>\n      <td>9.0</td>\n      <td>9.0</td>\n      <td>9.0</td>\n      <td>9.0</td>\n      <td>9.0</td>\n      <td>...</td>\n      <td>9.0</td>\n      <td>9.0</td>\n      <td>9.0</td>\n      <td>9.0</td>\n      <td>6.0</td>\n      <td>6.0</td>\n      <td>4.0</td>\n      <td>1.0</td>\n      <td>2.0</td>\n      <td>2.0</td>\n    </tr>\n    <tr>\n      <th>2015</th>\n      <td>9.0</td>\n      <td>9.0</td>\n      <td>6.0</td>\n      <td>6.0</td>\n      <td>6.0</td>\n      <td>8.0</td>\n      <td>9.0</td>\n      <td>9.0</td>\n      <td>9.0</td>\n      <td>9.0</td>\n      <td>...</td>\n      <td>9.0</td>\n      <td>9.0</td>\n      <td>9.0</td>\n      <td>9.0</td>\n      <td>9.0</td>\n      <td>9.0</td>\n      <td>4.0</td>\n      <td>1.0</td>\n      <td>2.0</td>\n      <td>2.0</td>\n    </tr>\n    <tr>\n      <th>2016</th>\n      <td>9.0</td>\n      <td>9.0</td>\n      <td>9.0</td>\n      <td>9.0</td>\n      <td>6.0</td>\n      <td>6.0</td>\n      <td>6.0</td>\n      <td>9.0</td>\n      <td>9.0</td>\n      <td>9.0</td>\n      <td>...</td>\n      <td>9.0</td>\n      <td>9.0</td>\n      <td>9.0</td>\n      <td>9.0</td>\n      <td>9.0</td>\n      <td>9.0</td>\n      <td>4.0</td>\n      <td>1.0</td>\n      <td>2.0</td>\n      <td>2.0</td>\n    </tr>\n    <tr>\n      <th>2017</th>\n      <td>9.0</td>\n      <td>9.0</td>\n      <td>6.0</td>\n      <td>7.0</td>\n      <td>6.0</td>\n      <td>9.0</td>\n      <td>9.0</td>\n      <td>9.0</td>\n      <td>9.0</td>\n      <td>9.0</td>\n      <td>...</td>\n      <td>9.0</td>\n      <td>9.0</td>\n      <td>9.0</td>\n      <td>9.0</td>\n      <td>9.0</td>\n      <td>8.0</td>\n      <td>4.0</td>\n      <td>1.0</td>\n      <td>2.0</td>\n      <td>2.0</td>\n    </tr>\n    <tr>\n      <th>2018</th>\n      <td>9.0</td>\n      <td>8.0</td>\n      <td>9.0</td>\n      <td>7.0</td>\n      <td>6.0</td>\n      <td>6.0</td>\n      <td>9.0</td>\n      <td>9.0</td>\n      <td>9.0</td>\n      <td>9.0</td>\n      <td>...</td>\n      <td>9.0</td>\n      <td>9.0</td>\n      <td>9.0</td>\n      <td>9.0</td>\n      <td>9.0</td>\n      <td>9.0</td>\n      <td>4.0</td>\n      <td>1.0</td>\n      <td>2.0</td>\n      <td>2.0</td>\n    </tr>\n    <tr>\n      <th>2019</th>\n      <td>9.0</td>\n      <td>9.0</td>\n      <td>9.0</td>\n      <td>6.0</td>\n      <td>6.0</td>\n      <td>6.0</td>\n      <td>9.0</td>\n      <td>9.0</td>\n      <td>9.0</td>\n      <td>9.0</td>\n      <td>...</td>\n      <td>9.0</td>\n      <td>9.0</td>\n      <td>9.0</td>\n      <td>9.0</td>\n      <td>9.0</td>\n      <td>9.0</td>\n      <td>4.0</td>\n      <td>1.0</td>\n      <td>2.0</td>\n      <td>2.0</td>\n    </tr>\n    <tr>\n      <th>2020</th>\n      <td>9.0</td>\n      <td>NaN</td>\n      <td>NaN</td>\n      <td>NaN</td>\n      <td>NaN</td>\n      <td>NaN</td>\n      <td>NaN</td>\n      <td>NaN</td>\n      <td>NaN</td>\n      <td>NaN</td>\n      <td>...</td>\n      <td>9.0</td>\n      <td>9.0</td>\n      <td>9.0</td>\n      <td>8.0</td>\n      <td>NaN</td>\n      <td>NaN</td>\n      <td>NaN</td>\n      <td>NaN</td>\n      <td>NaN</td>\n      <td>NaN</td>\n    </tr>\n  </tbody>\n</table>\n<p>9 rows × 27 columns</p>\n</div>"
     },
     "metadata": {},
     "execution_count": 43
    }
   ],
   "source": [
    "matchesPerRound = df[df['competition'] == 'Toyota AFL Premiership'].pivot_table(index='season', columns='round', values='date', aggfunc=len)\n",
    "matchesPerRound"
   ]
  },
  {
   "cell_type": "markdown",
   "metadata": {},
   "source": [
    "Yep they all look to be there! Happy days."
   ]
  }
 ]
}